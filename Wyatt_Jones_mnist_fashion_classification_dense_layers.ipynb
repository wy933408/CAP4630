{
  "nbformat": 4,
  "nbformat_minor": 0,
  "metadata": {
    "colab": {
      "name": "Wyatt Jones mnist_fashion_classification_dense_layers.ipynb",
      "provenance": []
    },
    "kernelspec": {
      "name": "python3",
      "display_name": "Python 3"
    }
  },
  "cells": [
    {
      "cell_type": "markdown",
      "metadata": {
        "id": "rt44vyY1xW9b",
        "colab_type": "text"
      },
      "source": [
        "# MNIST fashion data set"
      ]
    },
    {
      "cell_type": "markdown",
      "metadata": {
        "id": "l34GNy7tyNks",
        "colab_type": "text"
      },
      "source": [
        "## Loading the MNIST fashion data set"
      ]
    },
    {
      "cell_type": "code",
      "metadata": {
        "id": "FSJyddqGexl5",
        "colab_type": "code",
        "colab": {
          "base_uri": "https://localhost:8080/",
          "height": 245
        },
        "outputId": "9b33f690-060c-4869-94fd-48cbbe569ae7"
      },
      "source": [
        "import tensorflow as tf\n",
        "from tensorflow import keras\n",
        "\n",
        "fashion_mnist = keras.datasets.fashion_mnist\n",
        "\n",
        "(train_images, train_labels), (test_images, test_labels) = fashion_mnist.load_data()"
      ],
      "execution_count": 2,
      "outputs": [
        {
          "output_type": "display_data",
          "data": {
            "text/html": [
              "<p style=\"color: red;\">\n",
              "The default version of TensorFlow in Colab will soon switch to TensorFlow 2.x.<br>\n",
              "We recommend you <a href=\"https://www.tensorflow.org/guide/migrate\" target=\"_blank\">upgrade</a> now \n",
              "or ensure your notebook will continue to use TensorFlow 1.x via the <code>%tensorflow_version 1.x</code> magic:\n",
              "<a href=\"https://colab.research.google.com/notebooks/tensorflow_version.ipynb\" target=\"_blank\">more info</a>.</p>\n"
            ],
            "text/plain": [
              "<IPython.core.display.HTML object>"
            ]
          },
          "metadata": {
            "tags": []
          }
        },
        {
          "output_type": "stream",
          "text": [
            "Downloading data from https://storage.googleapis.com/tensorflow/tf-keras-datasets/train-labels-idx1-ubyte.gz\n",
            "32768/29515 [=================================] - 0s 0us/step\n",
            "Downloading data from https://storage.googleapis.com/tensorflow/tf-keras-datasets/train-images-idx3-ubyte.gz\n",
            "26427392/26421880 [==============================] - 0s 0us/step\n",
            "Downloading data from https://storage.googleapis.com/tensorflow/tf-keras-datasets/t10k-labels-idx1-ubyte.gz\n",
            "8192/5148 [===============================================] - 0s 0us/step\n",
            "Downloading data from https://storage.googleapis.com/tensorflow/tf-keras-datasets/t10k-images-idx3-ubyte.gz\n",
            "4423680/4422102 [==============================] - 0s 0us/step\n"
          ],
          "name": "stdout"
        }
      ]
    },
    {
      "cell_type": "markdown",
      "metadata": {
        "id": "XuWVQX3CySIC",
        "colab_type": "text"
      },
      "source": [
        "## Exploring the format of the MNIST fashion data set"
      ]
    },
    {
      "cell_type": "code",
      "metadata": {
        "id": "HKyztEf4fkBg",
        "colab_type": "code",
        "outputId": "1d0a676c-6023-4447-cbdb-98199c00c134",
        "colab": {
          "base_uri": "https://localhost:8080/",
          "height": 35
        }
      },
      "source": [
        "train_images.shape"
      ],
      "execution_count": 3,
      "outputs": [
        {
          "output_type": "execute_result",
          "data": {
            "text/plain": [
              "(60000, 28, 28)"
            ]
          },
          "metadata": {
            "tags": []
          },
          "execution_count": 3
        }
      ]
    },
    {
      "cell_type": "code",
      "metadata": {
        "id": "vA81OpzFyjyS",
        "colab_type": "code",
        "outputId": "7f0b0de9-36f2-4332-a9a6-2cac8c8817ab",
        "colab": {
          "base_uri": "https://localhost:8080/",
          "height": 35
        }
      },
      "source": [
        "len(train_images)"
      ],
      "execution_count": 4,
      "outputs": [
        {
          "output_type": "execute_result",
          "data": {
            "text/plain": [
              "60000"
            ]
          },
          "metadata": {
            "tags": []
          },
          "execution_count": 4
        }
      ]
    },
    {
      "cell_type": "code",
      "metadata": {
        "id": "w85BC1AXxwds",
        "colab_type": "code",
        "outputId": "3ef3bc19-e77b-4998-f8c0-2dda2fb6aed8",
        "colab": {
          "base_uri": "https://localhost:8080/",
          "height": 35
        }
      },
      "source": [
        "train_images.ndim"
      ],
      "execution_count": 5,
      "outputs": [
        {
          "output_type": "execute_result",
          "data": {
            "text/plain": [
              "3"
            ]
          },
          "metadata": {
            "tags": []
          },
          "execution_count": 5
        }
      ]
    },
    {
      "cell_type": "code",
      "metadata": {
        "id": "1sHFiZBFxnrB",
        "colab_type": "code",
        "outputId": "705c1c97-09ae-43d2-881e-4f50b1d92a0f",
        "colab": {
          "base_uri": "https://localhost:8080/",
          "height": 35
        }
      },
      "source": [
        "train_images.dtype"
      ],
      "execution_count": 6,
      "outputs": [
        {
          "output_type": "execute_result",
          "data": {
            "text/plain": [
              "dtype('uint8')"
            ]
          },
          "metadata": {
            "tags": []
          },
          "execution_count": 6
        }
      ]
    },
    {
      "cell_type": "code",
      "metadata": {
        "id": "euQWeEkpyCL5",
        "colab_type": "code",
        "outputId": "be41e84e-6dec-4be2-f1b8-7227a4b824de",
        "colab": {
          "base_uri": "https://localhost:8080/",
          "height": 35
        }
      },
      "source": [
        "train_labels"
      ],
      "execution_count": 7,
      "outputs": [
        {
          "output_type": "execute_result",
          "data": {
            "text/plain": [
              "array([9, 0, 0, ..., 3, 0, 5], dtype=uint8)"
            ]
          },
          "metadata": {
            "tags": []
          },
          "execution_count": 7
        }
      ]
    },
    {
      "cell_type": "code",
      "metadata": {
        "id": "jqv0aUL-gGU_",
        "colab_type": "code",
        "outputId": "fca0e327-7d2f-479f-dc7a-deda211de36c",
        "colab": {
          "base_uri": "https://localhost:8080/",
          "height": 35
        }
      },
      "source": [
        "len(train_labels)"
      ],
      "execution_count": 8,
      "outputs": [
        {
          "output_type": "execute_result",
          "data": {
            "text/plain": [
              "60000"
            ]
          },
          "metadata": {
            "tags": []
          },
          "execution_count": 8
        }
      ]
    },
    {
      "cell_type": "code",
      "metadata": {
        "id": "aa2r6ZRcO7XV",
        "colab_type": "code",
        "colab": {}
      },
      "source": [
        "class_names = ['T-shirt/top', 'Trouser', 'Pullover', 'Dress', 'Coat',\n",
        "               'Sandal', 'Shirt', 'Sneaker', 'Bag', 'Ankle boot']"
      ],
      "execution_count": 0,
      "outputs": []
    },
    {
      "cell_type": "markdown",
      "metadata": {
        "id": "dmQ2siA7ywPx",
        "colab_type": "text"
      },
      "source": [
        "## Displaying some MNIST fashion items"
      ]
    },
    {
      "cell_type": "code",
      "metadata": {
        "id": "uSj4HIhWzBxl",
        "colab_type": "code",
        "colab": {}
      },
      "source": [
        "import matplotlib.pyplot as plt\n",
        "import numpy as np"
      ],
      "execution_count": 0,
      "outputs": []
    },
    {
      "cell_type": "code",
      "metadata": {
        "id": "1Gdt3obzgQaY",
        "colab_type": "code",
        "outputId": "6a30edcd-ece8-46c7-a97e-66ea27f4f8b8",
        "colab": {
          "base_uri": "https://localhost:8080/",
          "height": 589
        }
      },
      "source": [
        "plt.figure(figsize=(10,10))\n",
        "indices = np.random.choice(np.arange(60000), size=25, replace=False)\n",
        "for i in range(25):\n",
        "    plt.subplot(5,5,i+1)\n",
        "    plt.xticks([])\n",
        "    plt.yticks([])\n",
        "    plt.grid(False)\n",
        "    plt.imshow(train_images[i], cmap=plt.cm.binary)\n",
        "    plt.xlabel(class_names[train_labels[i]])\n",
        "plt.show()"
      ],
      "execution_count": 11,
      "outputs": [
        {
          "output_type": "display_data",
          "data": {
            "image/png": "[encoded data removed]",
            "text/plain": [
              "<Figure size 720x720 with 25 Axes>"
            ]
          },
          "metadata": {
            "tags": []
          }
        }
      ]
    },
    {
      "cell_type": "markdown",
      "metadata": {
        "id": "Rcch4U30N53_",
        "colab_type": "text"
      },
      "source": [
        "The data must be preprocessed before training the network. If you inspect the first image in the training set, you will see that the pixel values fall in the range of 0 to 255:"
      ]
    },
    {
      "cell_type": "code",
      "metadata": {
        "id": "luvWbddTMtTX",
        "colab_type": "code",
        "outputId": "d8f9351e-1b1e-4215-d62d-47bf8630a172",
        "colab": {
          "base_uri": "https://localhost:8080/",
          "height": 265
        }
      },
      "source": [
        "plt.figure()\n",
        "plt.imshow(train_images[0])\n",
        "plt.colorbar()\n",
        "plt.grid(False)\n",
        "plt.show()"
      ],
      "execution_count": 12,
      "outputs": [
        {
          "output_type": "display_data",
          "data": {
            "image/png": "[encoded data removed]",
            "text/plain": [
              "<Figure size 432x288 with 2 Axes>"
            ]
          },
          "metadata": {
            "tags": []
          }
        }
      ]
    },
    {
      "cell_type": "markdown",
      "metadata": {
        "id": "JC5iBT_0OCSl",
        "colab_type": "text"
      },
      "source": [
        "## Preprocess the data"
      ]
    },
    {
      "cell_type": "code",
      "metadata": {
        "id": "inugSPsZNytV",
        "colab_type": "code",
        "colab": {}
      },
      "source": [
        "train_images = train_images / 255.0\n",
        "test_images = test_images / 255.0"
      ],
      "execution_count": 0,
      "outputs": []
    },
    {
      "cell_type": "markdown",
      "metadata": {
        "id": "OA975wHjOJI-",
        "colab_type": "text"
      },
      "source": [
        "## Build the Underfitting model"
      ]
    },
    {
      "cell_type": "code",
      "metadata": {
        "id": "ZX6SGTpMOIKN",
        "colab_type": "code",
        "outputId": "03c76774-eb1c-4cc0-cb32-3df4fd4340f5",
        "colab": {
          "base_uri": "https://localhost:8080/",
          "height": 289
        }
      },
      "source": [
        "# set up the layers\n",
        "\n",
        "model = keras.Sequential([\n",
        "    keras.layers.Flatten(input_shape=(28, 28)),\n",
        "    keras.layers.Dense(16, activation=tf.nn.relu),\n",
        "    keras.layers.Dense(10, activation=tf.nn.softmax)\n",
        "])\n",
        "\n",
        "# compile the model\n",
        "\n",
        "model.compile(optimizer='adam',\n",
        "             loss='sparse_categorical_crossentropy',\n",
        "             metrics=['accuracy'])\n",
        "\n",
        "# train the model\n",
        "epochs = 5\n",
        "history = model.fit(train_images, \n",
        "                      train_labels, \n",
        "                      epochs=epochs,  \n",
        "                      validation_data=(test_images, test_labels))"
      ],
      "execution_count": 14,
      "outputs": [
        {
          "output_type": "stream",
          "text": [
            "WARNING:tensorflow:From /usr/local/lib/python3.6/dist-packages/tensorflow_core/python/ops/resource_variable_ops.py:1630: calling BaseResourceVariable.__init__ (from tensorflow.python.ops.resource_variable_ops) with constraint is deprecated and will be removed in a future version.\n",
            "Instructions for updating:\n",
            "If using Keras pass *_constraint arguments to layers.\n",
            "Train on 60000 samples, validate on 10000 samples\n",
            "Epoch 1/5\n",
            "60000/60000 [==============================] - 4s 62us/sample - loss: 0.6005 - acc: 0.7931 - val_loss: 0.4935 - val_acc: 0.8265\n",
            "Epoch 2/5\n",
            "60000/60000 [==============================] - 3s 54us/sample - loss: 0.4422 - acc: 0.8456 - val_loss: 0.4541 - val_acc: 0.8425\n",
            "Epoch 3/5\n",
            "60000/60000 [==============================] - 3s 54us/sample - loss: 0.4137 - acc: 0.8544 - val_loss: 0.4582 - val_acc: 0.8414\n",
            "Epoch 4/5\n",
            "60000/60000 [==============================] - 3s 54us/sample - loss: 0.3944 - acc: 0.8607 - val_loss: 0.4192 - val_acc: 0.8514\n",
            "Epoch 5/5\n",
            "60000/60000 [==============================] - 3s 54us/sample - loss: 0.3817 - acc: 0.8644 - val_loss: 0.4416 - val_acc: 0.8476\n"
          ],
          "name": "stdout"
        }
      ]
    },
    {
      "cell_type": "markdown",
      "metadata": {
        "id": "mORb9IwPP7oE",
        "colab_type": "text"
      },
      "source": [
        "## Evaluate accuracy"
      ]
    },
    {
      "cell_type": "code",
      "metadata": {
        "id": "rlKIF6ijOkiE",
        "colab_type": "code",
        "outputId": "898716a5-6e97-4513-a022-c604a2fb3c5c",
        "colab": {
          "base_uri": "https://localhost:8080/",
          "height": 53
        }
      },
      "source": [
        "test_loss, test_acc = model.evaluate(test_images, test_labels)\n",
        "\n",
        "print('Test accuracy:', test_acc)"
      ],
      "execution_count": 15,
      "outputs": [
        {
          "output_type": "stream",
          "text": [
            "10000/10000 [==============================] - 0s 25us/sample - loss: 0.4416 - acc: 0.8476\n",
            "Test accuracy: 0.8476\n"
          ],
          "name": "stdout"
        }
      ]
    },
    {
      "cell_type": "markdown",
      "metadata": {
        "id": "A4_diOE4QOqo",
        "colab_type": "text"
      },
      "source": [
        "It turns out, the accuracy on the test dataset is a little less than the accuracy on the training dataset. \n",
        "\n",
        "This gap between training accuracy and test accuracy is an example of **overfitting**. Overfitting is when a machine learning model performs worse on new data than on their training data.\n",
        "\n"
      ]
    },
    {
      "cell_type": "markdown",
      "metadata": {
        "id": "GqbGdV6oXEyP",
        "colab_type": "text"
      },
      "source": [
        "## Training/test loss/accuracy during training"
      ]
    },
    {
      "cell_type": "code",
      "metadata": {
        "id": "3b5OCE5YTrEc",
        "colab_type": "code",
        "colab": {}
      },
      "source": [
        "history_dict = history.history\n",
        "loss_values = history_dict['loss']\n",
        "test_loss_values = history_dict['val_loss']\n",
        "epochs_range = range(1, epochs+1)"
      ],
      "execution_count": 0,
      "outputs": []
    },
    {
      "cell_type": "code",
      "metadata": {
        "id": "y98AOblYT3Pk",
        "colab_type": "code",
        "outputId": "01795fa5-bfb4-473e-83c8-b1a227fcbee5",
        "colab": {
          "base_uri": "https://localhost:8080/",
          "height": 295
        }
      },
      "source": [
        "plt.plot(epochs_range, loss_values, 'bo', label='Training loss')\n",
        "plt.plot(epochs_range, test_loss_values, 'ro', label='Test loss')\n",
        "plt.title('Training and test loss')\n",
        "plt.xlabel('Epochs')\n",
        "plt.ylabel('Loss')\n",
        "plt.legend()\n",
        "plt.show()"
      ],
      "execution_count": 17,
      "outputs": [
        {
          "output_type": "display_data",
          "data": {
            "image/png": "[encoded data removed]",
            "text/plain": [
              "<Figure size 432x288 with 1 Axes>"
            ]
          },
          "metadata": {
            "tags": []
          }
        }
      ]
    },
    {
      "cell_type": "code",
      "metadata": {
        "id": "790AkDaTWuZU",
        "colab_type": "code",
        "colab": {}
      },
      "source": [
        "acc_values = history_dict['acc']\n",
        "test_acc_values = history_dict['val_acc']"
      ],
      "execution_count": 0,
      "outputs": []
    },
    {
      "cell_type": "code",
      "metadata": {
        "id": "7BkIfPQ4W39E",
        "colab_type": "code",
        "outputId": "8d3b8125-f784-40c3-844a-c8511b87e8a2",
        "colab": {
          "base_uri": "https://localhost:8080/",
          "height": 295
        }
      },
      "source": [
        "plt.plot(epochs_range, acc_values, 'bo', label='Training accuracy')\n",
        "plt.plot(epochs_range, test_acc_values, 'ro', label='Test accuracy')\n",
        "plt.title('Training and test accuracy')\n",
        "plt.xlabel('Epochs')\n",
        "plt.ylabel('Accuracy')\n",
        "plt.legend()\n",
        "plt.show()"
      ],
      "execution_count": 19,
      "outputs": [
        {
          "output_type": "display_data",
          "data": {
            "image/png": "[encoded data removed]",
            "text/plain": [
              "<Figure size 432x288 with 1 Axes>"
            ]
          },
          "metadata": {
            "tags": []
          }
        }
      ]
    },
    {
      "cell_type": "markdown",
      "metadata": {
        "id": "2zpnxENIWj4N",
        "colab_type": "text"
      },
      "source": [
        "## Make predictions"
      ]
    },
    {
      "cell_type": "code",
      "metadata": {
        "id": "EMJTp1IDQIXE",
        "colab_type": "code",
        "colab": {}
      },
      "source": [
        "predictions = model.predict(test_images)"
      ],
      "execution_count": 0,
      "outputs": []
    },
    {
      "cell_type": "code",
      "metadata": {
        "id": "AoYG5h-ZWqzU",
        "colab_type": "code",
        "outputId": "59c900b3-93b2-4fd2-b619-3b8bbbb87303",
        "colab": {
          "base_uri": "https://localhost:8080/",
          "height": 0
        }
      },
      "source": [
        "index = 0\n",
        "predictions[index]"
      ],
      "execution_count": 21,
      "outputs": [
        {
          "output_type": "execute_result",
          "data": {
            "text/plain": [
              "array([4.9773748e-06, 6.9395878e-07, 2.7363440e-06, 3.5601101e-07,\n",
              "       2.7434564e-06, 2.1470542e-01, 2.2439324e-04, 9.4726510e-02,\n",
              "       1.8137594e-03, 6.8851840e-01], dtype=float32)"
            ]
          },
          "metadata": {
            "tags": []
          },
          "execution_count": 21
        }
      ]
    },
    {
      "cell_type": "code",
      "metadata": {
        "id": "IU2elMC0Wsju",
        "colab_type": "code",
        "outputId": "d798eccf-98d8-4e48-af99-acaa60ad369e",
        "colab": {
          "base_uri": "https://localhost:8080/",
          "height": 0
        }
      },
      "source": [
        "np.argmax(predictions[index])"
      ],
      "execution_count": 22,
      "outputs": [
        {
          "output_type": "execute_result",
          "data": {
            "text/plain": [
              "9"
            ]
          },
          "metadata": {
            "tags": []
          },
          "execution_count": 22
        }
      ]
    },
    {
      "cell_type": "code",
      "metadata": {
        "id": "ohfgh9IsWx48",
        "colab_type": "code",
        "outputId": "5f80f1bd-39e8-474a-f63b-7153c2568dc4",
        "colab": {
          "base_uri": "https://localhost:8080/",
          "height": 0
        }
      },
      "source": [
        "test_labels[index]"
      ],
      "execution_count": 23,
      "outputs": [
        {
          "output_type": "execute_result",
          "data": {
            "text/plain": [
              "9"
            ]
          },
          "metadata": {
            "tags": []
          },
          "execution_count": 23
        }
      ]
    },
    {
      "cell_type": "code",
      "metadata": {
        "id": "5z8UXzYHW0NV",
        "colab_type": "code",
        "colab": {}
      },
      "source": [
        "def plot_image(i, predictions_array, true_label, img):\n",
        "  predictions_array, true_label, img = predictions_array[i], true_label[i], img[i]\n",
        "  plt.grid(False)\n",
        "  plt.xticks([])\n",
        "  plt.yticks([])\n",
        "\n",
        "  plt.imshow(img, cmap=plt.cm.binary)\n",
        "\n",
        "  predicted_label = np.argmax(predictions_array)\n",
        "  if predicted_label == true_label:\n",
        "    color = 'blue'\n",
        "  else:\n",
        "    color = 'red'\n",
        "\n",
        "  plt.xlabel(\"{} {:2.0f}% ({})\".format(class_names[predicted_label],\n",
        "                                100*np.max(predictions_array),\n",
        "                                class_names[true_label]),\n",
        "                                color=color)\n",
        "\n",
        "def plot_value_array(i, predictions_array, true_label):\n",
        "  predictions_array, true_label = predictions_array[i], true_label[i]\n",
        "  plt.grid(False)\n",
        "  plt.xticks([])\n",
        "  plt.yticks([])\n",
        "  thisplot = plt.bar(range(10), predictions_array, color=\"#777777\")\n",
        "  plt.ylim([0, 1])\n",
        "  predicted_label = np.argmax(predictions_array)\n",
        "\n",
        "  thisplot[predicted_label].set_color('red')\n",
        "  thisplot[true_label].set_color('blue')"
      ],
      "execution_count": 0,
      "outputs": []
    },
    {
      "cell_type": "code",
      "metadata": {
        "id": "zt5AUKVlW7gk",
        "colab_type": "code",
        "outputId": "0f96fa96-67a7-43fa-b517-e7e7216a2d86",
        "colab": {
          "base_uri": "https://localhost:8080/",
          "height": 0
        }
      },
      "source": [
        "index = 0\n",
        "plt.figure(figsize=(6,3))\n",
        "plt.subplot(1,2,1)\n",
        "plot_image(index, predictions, test_labels, test_images)\n",
        "plt.subplot(1,2,2)\n",
        "plot_value_array(index, predictions,  test_labels)\n"
      ],
      "execution_count": 25,
      "outputs": [
        {
          "output_type": "display_data",
          "data": {
            "image/png": "[encoded data removed]",
            "text/plain": [
              "<Figure size 432x216 with 2 Axes>"
            ]
          },
          "metadata": {
            "tags": []
          }
        }
      ]
    },
    {
      "cell_type": "code",
      "metadata": {
        "id": "tD61VS-IXHk8",
        "colab_type": "code",
        "outputId": "3b0efc02-309c-4bd5-af09-5869b64875dd",
        "colab": {
          "base_uri": "https://localhost:8080/",
          "height": 0
        }
      },
      "source": [
        "# Plot the first X test images, their predicted label, and the true label\n",
        "# Color correct predictions in blue, incorrect predictions in red\n",
        "num_rows = 5\n",
        "num_cols = 3\n",
        "num_images = num_rows*num_cols\n",
        "plt.figure(figsize=(2*2*num_cols, 2*num_rows))\n",
        "for i in range(num_images):\n",
        "  plt.subplot(num_rows, 2*num_cols, 2*i+1)\n",
        "  plot_image(i, predictions, test_labels, test_images)\n",
        "  plt.subplot(num_rows, 2*num_cols, 2*i+2)\n",
        "  plot_value_array(i, predictions, test_labels)\n"
      ],
      "execution_count": 26,
      "outputs": [
        {
          "output_type": "display_data",
          "data": {
            "image/png": "[encoded data removed]",
            "text/plain": [
              "<Figure size 864x720 with 30 Axes>"
            ]
          },
          "metadata": {
            "tags": []
          }
        }
      ]
    },
    {
      "cell_type": "markdown",
      "metadata": {
        "id": "MX2EqMuqOskz",
        "colab_type": "text"
      },
      "source": [
        "## Make prediction about a single image"
      ]
    },
    {
      "cell_type": "code",
      "metadata": {
        "id": "pHhfS4T3XQs8",
        "colab_type": "code",
        "outputId": "ebb445b2-6b90-41a4-f67b-c5010dded640",
        "colab": {
          "base_uri": "https://localhost:8080/",
          "height": 0
        }
      },
      "source": [
        "index = 0\n",
        "test_image = test_images[index]\n",
        "print(test_image.shape)"
      ],
      "execution_count": 27,
      "outputs": [
        {
          "output_type": "stream",
          "text": [
            "(28, 28)\n"
          ],
          "name": "stdout"
        }
      ]
    },
    {
      "cell_type": "code",
      "metadata": {
        "id": "owI75SpDO6s7",
        "colab_type": "code",
        "outputId": "47db989e-45ec-4858-d4db-6c24c784bc61",
        "colab": {
          "base_uri": "https://localhost:8080/",
          "height": 0
        }
      },
      "source": [
        "# Add the image to a batch where it's the only member\n",
        "test_image_single = (np.expand_dims(test_image, 0))\n",
        "print(test_image_single.shape)"
      ],
      "execution_count": 28,
      "outputs": [
        {
          "output_type": "stream",
          "text": [
            "(1, 28, 28)\n"
          ],
          "name": "stdout"
        }
      ]
    },
    {
      "cell_type": "code",
      "metadata": {
        "id": "zTz4dMqjQRw0",
        "colab_type": "code",
        "outputId": "417afccd-5fda-4111-99a7-d84324f70468",
        "colab": {
          "base_uri": "https://localhost:8080/",
          "height": 0
        }
      },
      "source": [
        "predictions_single = model.predict(test_image_single)\n",
        "print(predictions_single)"
      ],
      "execution_count": 29,
      "outputs": [
        {
          "output_type": "stream",
          "text": [
            "[[4.9773821e-06 6.9395981e-07 2.7363453e-06 3.5601121e-07 2.7434551e-06\n",
            "  2.1470563e-01 2.2439337e-04 9.4726585e-02 1.8137603e-03 6.8851811e-01]]\n"
          ],
          "name": "stdout"
        }
      ]
    },
    {
      "cell_type": "code",
      "metadata": {
        "id": "9e2oW3-iQgjU",
        "colab_type": "code",
        "outputId": "bf7f459e-5af7-4e5a-846a-68a8a86c10f5",
        "colab": {
          "base_uri": "https://localhost:8080/",
          "height": 0
        }
      },
      "source": [
        "plot_value_array(0, predictions_single, test_labels)\n",
        "_ = plt.xticks(range(10), class_names, rotation=45)"
      ],
      "execution_count": 30,
      "outputs": [
        {
          "output_type": "display_data",
          "data": {
            "image/png": "[encoded data removed]",
            "text/plain": [
              "<Figure size 432x288 with 1 Axes>"
            ]
          },
          "metadata": {
            "tags": []
          }
        }
      ]
    },
    {
      "cell_type": "code",
      "metadata": {
        "id": "DnB5hIuwQ51U",
        "colab_type": "code",
        "outputId": "ea158a81-3ab8-4ef4-9181-e3ef79f8ac5d",
        "colab": {
          "base_uri": "https://localhost:8080/",
          "height": 0
        }
      },
      "source": [
        "plt.imshow(test_image, cmap=plt.cm.binary)\n",
        "plt.grid(None)"
      ],
      "execution_count": 31,
      "outputs": [
        {
          "output_type": "display_data",
          "data": {
            "image/png": "[encoded data removed]",
            "text/plain": [
              "<Figure size 432x288 with 1 Axes>"
            ]
          },
          "metadata": {
            "tags": []
          }
        }
      ]
    },
    {
      "cell_type": "code",
      "metadata": {
        "id": "PHmmIC94RoTs",
        "colab_type": "code",
        "outputId": "418a28ee-ace0-41cc-ee71-8155f70d4519",
        "colab": {
          "base_uri": "https://localhost:8080/",
          "height": 0
        }
      },
      "source": [
        "np.argmax(predictions_single[0])"
      ],
      "execution_count": 32,
      "outputs": [
        {
          "output_type": "execute_result",
          "data": {
            "text/plain": [
              "9"
            ]
          },
          "metadata": {
            "tags": []
          },
          "execution_count": 32
        }
      ]
    },
    {
      "cell_type": "code",
      "metadata": {
        "id": "PS_usZ3vTCDs",
        "colab_type": "code",
        "outputId": "7fe2d42f-35d8-4a88-e13c-8f7f2ff83f4c",
        "colab": {
          "base_uri": "https://localhost:8080/",
          "height": 0
        }
      },
      "source": [
        "test_labels[index]"
      ],
      "execution_count": 33,
      "outputs": [
        {
          "output_type": "execute_result",
          "data": {
            "text/plain": [
              "9"
            ]
          },
          "metadata": {
            "tags": []
          },
          "execution_count": 33
        }
      ]
    },
    {
      "cell_type": "markdown",
      "metadata": {
        "id": "7-mE6X-sejyH",
        "colab_type": "text"
      },
      "source": [
        "##Setting up Overfitting Model"
      ]
    },
    {
      "cell_type": "code",
      "metadata": {
        "id": "XLZp0UpVTFJU",
        "colab_type": "code",
        "outputId": "521eddf7-922a-4247-fbe5-7f51603356c4",
        "colab": {
          "base_uri": "https://localhost:8080/",
          "height": 1000
        }
      },
      "source": [
        "# set up the layers\n",
        "\n",
        "model = keras.Sequential([\n",
        "    keras.layers.Flatten(input_shape=(28, 28)),\n",
        "    keras.layers.Dense(256, activation=tf.nn.relu),\n",
        "    keras.layers.Dense(128, activation=tf.nn.relu),\n",
        "    keras.layers.Dense(128, activation=tf.nn.relu),\n",
        "    keras.layers.Dense(256, activation=tf.nn.relu),\n",
        "    keras.layers.Dense(10, activation=tf.nn.softmax)\n",
        "])\n",
        "\n",
        "# compile the model\n",
        "\n",
        "model.compile(optimizer='adam',\n",
        "             loss='sparse_categorical_crossentropy',\n",
        "             metrics=['accuracy'])\n",
        "\n",
        "# train the model\n",
        "epochs = 30\n",
        "history = model.fit(train_images, \n",
        "                      train_labels, \n",
        "                      epochs=epochs,  \n",
        "                      validation_data=(test_images, test_labels))"
      ],
      "execution_count": 34,
      "outputs": [
        {
          "output_type": "stream",
          "text": [
            "Train on 60000 samples, validate on 10000 samples\n",
            "Epoch 1/30\n",
            "60000/60000 [==============================] - 8s 140us/sample - loss: 0.4944 - acc: 0.8194 - val_loss: 0.4032 - val_acc: 0.8544\n",
            "Epoch 2/30\n",
            "60000/60000 [==============================] - 9s 144us/sample - loss: 0.3706 - acc: 0.8634 - val_loss: 0.3960 - val_acc: 0.8577\n",
            "Epoch 3/30\n",
            "60000/60000 [==============================] - 8s 134us/sample - loss: 0.3348 - acc: 0.8766 - val_loss: 0.3746 - val_acc: 0.8654\n",
            "Epoch 4/30\n",
            "60000/60000 [==============================] - 8s 132us/sample - loss: 0.3135 - acc: 0.8840 - val_loss: 0.3696 - val_acc: 0.8650\n",
            "Epoch 5/30\n",
            "60000/60000 [==============================] - 8s 133us/sample - loss: 0.2934 - acc: 0.8914 - val_loss: 0.3656 - val_acc: 0.8714\n",
            "Epoch 6/30\n",
            "60000/60000 [==============================] - 8s 132us/sample - loss: 0.2829 - acc: 0.8950 - val_loss: 0.3505 - val_acc: 0.8800\n",
            "Epoch 7/30\n",
            "60000/60000 [==============================] - 8s 130us/sample - loss: 0.2694 - acc: 0.8992 - val_loss: 0.3350 - val_acc: 0.8790\n",
            "Epoch 8/30\n",
            "60000/60000 [==============================] - 8s 132us/sample - loss: 0.2576 - acc: 0.9028 - val_loss: 0.3433 - val_acc: 0.8788\n",
            "Epoch 9/30\n",
            "60000/60000 [==============================] - 8s 131us/sample - loss: 0.2502 - acc: 0.9068 - val_loss: 0.3483 - val_acc: 0.8769\n",
            "Epoch 10/30\n",
            "60000/60000 [==============================] - 8s 130us/sample - loss: 0.2407 - acc: 0.9091 - val_loss: 0.3515 - val_acc: 0.8799\n",
            "Epoch 11/30\n",
            "60000/60000 [==============================] - 8s 133us/sample - loss: 0.2323 - acc: 0.9110 - val_loss: 0.3467 - val_acc: 0.8879\n",
            "Epoch 12/30\n",
            "60000/60000 [==============================] - 8s 139us/sample - loss: 0.2238 - acc: 0.9160 - val_loss: 0.4228 - val_acc: 0.8589\n",
            "Epoch 13/30\n",
            "60000/60000 [==============================] - 8s 132us/sample - loss: 0.2200 - acc: 0.9160 - val_loss: 0.3576 - val_acc: 0.8825\n",
            "Epoch 14/30\n",
            "60000/60000 [==============================] - 8s 131us/sample - loss: 0.2118 - acc: 0.9203 - val_loss: 0.3381 - val_acc: 0.8851\n",
            "Epoch 15/30\n",
            "60000/60000 [==============================] - 8s 133us/sample - loss: 0.2084 - acc: 0.9208 - val_loss: 0.3439 - val_acc: 0.8895\n",
            "Epoch 16/30\n",
            "60000/60000 [==============================] - 8s 133us/sample - loss: 0.2033 - acc: 0.9221 - val_loss: 0.3368 - val_acc: 0.8902\n",
            "Epoch 17/30\n",
            "60000/60000 [==============================] - 8s 129us/sample - loss: 0.1968 - acc: 0.9244 - val_loss: 0.3637 - val_acc: 0.8869\n",
            "Epoch 18/30\n",
            "60000/60000 [==============================] - 8s 132us/sample - loss: 0.1913 - acc: 0.9269 - val_loss: 0.3526 - val_acc: 0.8968\n",
            "Epoch 19/30\n",
            "60000/60000 [==============================] - 8s 135us/sample - loss: 0.1891 - acc: 0.9279 - val_loss: 0.3767 - val_acc: 0.8857\n",
            "Epoch 20/30\n",
            "60000/60000 [==============================] - 8s 138us/sample - loss: 0.1883 - acc: 0.9280 - val_loss: 0.4025 - val_acc: 0.8811\n",
            "Epoch 21/30\n",
            "60000/60000 [==============================] - 8s 139us/sample - loss: 0.1810 - acc: 0.9319 - val_loss: 0.4001 - val_acc: 0.8868\n",
            "Epoch 22/30\n",
            "60000/60000 [==============================] - 8s 138us/sample - loss: 0.1766 - acc: 0.9322 - val_loss: 0.3610 - val_acc: 0.8884\n",
            "Epoch 23/30\n",
            "60000/60000 [==============================] - 9s 142us/sample - loss: 0.1740 - acc: 0.9327 - val_loss: 0.3929 - val_acc: 0.8904\n",
            "Epoch 24/30\n",
            "60000/60000 [==============================] - 9s 144us/sample - loss: 0.1688 - acc: 0.9358 - val_loss: 0.4125 - val_acc: 0.8892\n",
            "Epoch 25/30\n",
            "60000/60000 [==============================] - 8s 140us/sample - loss: 0.1692 - acc: 0.9357 - val_loss: 0.3983 - val_acc: 0.8913\n",
            "Epoch 26/30\n",
            "60000/60000 [==============================] - 8s 140us/sample - loss: 0.1640 - acc: 0.9380 - val_loss: 0.3996 - val_acc: 0.8923\n",
            "Epoch 27/30\n",
            "60000/60000 [==============================] - 8s 138us/sample - loss: 0.1623 - acc: 0.9386 - val_loss: 0.3843 - val_acc: 0.8865\n",
            "Epoch 28/30\n",
            "60000/60000 [==============================] - 8s 141us/sample - loss: 0.1588 - acc: 0.9392 - val_loss: 0.4257 - val_acc: 0.8845\n",
            "Epoch 29/30\n",
            "60000/60000 [==============================] - 9s 143us/sample - loss: 0.1546 - acc: 0.9410 - val_loss: 0.4470 - val_acc: 0.8907\n",
            "Epoch 30/30\n",
            "60000/60000 [==============================] - 8s 141us/sample - loss: 0.1484 - acc: 0.9429 - val_loss: 0.4346 - val_acc: 0.8920\n"
          ],
          "name": "stdout"
        }
      ]
    },
    {
      "cell_type": "code",
      "metadata": {
        "id": "OARAIH3rcT_H",
        "colab_type": "code",
        "colab": {}
      },
      "source": [
        ""
      ],
      "execution_count": 0,
      "outputs": []
    },
    {
      "cell_type": "code",
      "metadata": {
        "id": "V1iwyQc0cW-e",
        "colab_type": "code",
        "colab": {}
      },
      "source": [
        "history_dict = history.history\n",
        "loss_values = history_dict['loss']\n",
        "test_loss_values = history_dict['val_loss']\n",
        "epochs_range = range(1, epochs+1)"
      ],
      "execution_count": 0,
      "outputs": []
    },
    {
      "cell_type": "code",
      "metadata": {
        "id": "kagPbxMTcZxC",
        "colab_type": "code",
        "outputId": "60999146-d3f7-4257-ab79-882fab8679c4",
        "colab": {
          "base_uri": "https://localhost:8080/",
          "height": 295
        }
      },
      "source": [
        "plt.plot(epochs_range, loss_values, 'bo', label='Training loss')\n",
        "plt.plot(epochs_range, test_loss_values, 'ro', label='Test loss')\n",
        "plt.title('Training and test loss')\n",
        "plt.xlabel('Epochs')\n",
        "plt.ylabel('Loss')\n",
        "plt.legend()\n",
        "plt.show()"
      ],
      "execution_count": 36,
      "outputs": [
        {
          "output_type": "display_data",
          "data": {
            "image/png": "[encoded data removed]",
            "text/plain": [
              "<Figure size 432x288 with 1 Axes>"
            ]
          },
          "metadata": {
            "tags": []
          }
        }
      ]
    },
    {
      "cell_type": "code",
      "metadata": {
        "id": "cGtKa_17ccH_",
        "colab_type": "code",
        "colab": {}
      },
      "source": [
        "acc_values = history_dict['acc']\n",
        "test_acc_values = history_dict['val_acc']"
      ],
      "execution_count": 0,
      "outputs": []
    },
    {
      "cell_type": "code",
      "metadata": {
        "id": "T_rhu4l3cfCZ",
        "colab_type": "code",
        "outputId": "34cd93e1-5c8a-4b5d-c926-e5c20304dcef",
        "colab": {
          "base_uri": "https://localhost:8080/",
          "height": 295
        }
      },
      "source": [
        "plt.plot(epochs_range, acc_values, 'bo', label='Training accuracy')\n",
        "plt.plot(epochs_range, test_acc_values, 'ro', label='Test accuracy')\n",
        "plt.title('Training and test accuracy')\n",
        "plt.xlabel('Epochs')\n",
        "plt.ylabel('Accuracy')\n",
        "plt.legend()\n",
        "plt.show()"
      ],
      "execution_count": 38,
      "outputs": [
        {
          "output_type": "display_data",
          "data": {
            "image/png": "[encoded data removed]",
            "text/plain": [
              "<Figure size 432x288 with 1 Axes>"
            ]
          },
          "metadata": {
            "tags": []
          }
        }
      ]
    },
    {
      "cell_type": "code",
      "metadata": {
        "id": "WYHvcNZ7chjn",
        "colab_type": "code",
        "colab": {}
      },
      "source": [
        "predictions = model.predict(test_images)"
      ],
      "execution_count": 0,
      "outputs": []
    },
    {
      "cell_type": "code",
      "metadata": {
        "id": "XBsV-2gGclz8",
        "colab_type": "code",
        "outputId": "2c004459-38a0-4e12-c773-1b6d038c3edf",
        "colab": {
          "base_uri": "https://localhost:8080/",
          "height": 71
        }
      },
      "source": [
        "index = 0\n",
        "predictions[index]"
      ],
      "execution_count": 40,
      "outputs": [
        {
          "output_type": "execute_result",
          "data": {
            "text/plain": [
              "array([1.2372088e-09, 8.0787984e-08, 8.3169388e-11, 1.5459285e-09,\n",
              "       5.3909443e-13, 7.6640980e-08, 2.4451174e-11, 9.0403128e-06,\n",
              "       1.1980876e-09, 9.9999082e-01], dtype=float32)"
            ]
          },
          "metadata": {
            "tags": []
          },
          "execution_count": 40
        }
      ]
    },
    {
      "cell_type": "code",
      "metadata": {
        "id": "XJvq5O9scpRH",
        "colab_type": "code",
        "outputId": "a35d0ec9-04ae-45e6-85f0-11cb38b6063a",
        "colab": {
          "base_uri": "https://localhost:8080/",
          "height": 35
        }
      },
      "source": [
        "np.argmax(predictions[index])"
      ],
      "execution_count": 41,
      "outputs": [
        {
          "output_type": "execute_result",
          "data": {
            "text/plain": [
              "9"
            ]
          },
          "metadata": {
            "tags": []
          },
          "execution_count": 41
        }
      ]
    },
    {
      "cell_type": "code",
      "metadata": {
        "id": "BKYilYWgcr-8",
        "colab_type": "code",
        "outputId": "75f8b74d-87ba-47e5-ed8d-424032475b90",
        "colab": {
          "base_uri": "https://localhost:8080/",
          "height": 35
        }
      },
      "source": [
        "test_labels[index]"
      ],
      "execution_count": 42,
      "outputs": [
        {
          "output_type": "execute_result",
          "data": {
            "text/plain": [
              "9"
            ]
          },
          "metadata": {
            "tags": []
          },
          "execution_count": 42
        }
      ]
    },
    {
      "cell_type": "code",
      "metadata": {
        "id": "v876HisHczOP",
        "colab_type": "code",
        "outputId": "6338e2fa-c736-4279-ca7a-433f45b2bba4",
        "colab": {
          "base_uri": "https://localhost:8080/",
          "height": 203
        }
      },
      "source": [
        "index = 0\n",
        "plt.figure(figsize=(6,3))\n",
        "plt.subplot(1,2,1)\n",
        "plot_image(index, predictions, test_labels, test_images)\n",
        "plt.subplot(1,2,2)\n",
        "plot_value_array(index, predictions,  test_labels)"
      ],
      "execution_count": 43,
      "outputs": [
        {
          "output_type": "display_data",
          "data": {
            "image/png": "[encoded data removed]",
            "text/plain": [
              "<Figure size 432x216 with 2 Axes>"
            ]
          },
          "metadata": {
            "tags": []
          }
        }
      ]
    },
    {
      "cell_type": "code",
      "metadata": {
        "id": "rIsAYHatc17D",
        "colab_type": "code",
        "outputId": "5a79998b-e337-4a62-a644-ef48c7d86218",
        "colab": {
          "base_uri": "https://localhost:8080/",
          "height": 589
        }
      },
      "source": [
        "# Plot the first X test images, their predicted label, and the true label\n",
        "# Color correct predictions in blue, incorrect predictions in red\n",
        "num_rows = 5\n",
        "num_cols = 3\n",
        "num_images = num_rows*num_cols\n",
        "plt.figure(figsize=(2*2*num_cols, 2*num_rows))\n",
        "for i in range(num_images):\n",
        "  plt.subplot(num_rows, 2*num_cols, 2*i+1)\n",
        "  plot_image(i, predictions, test_labels, test_images)\n",
        "  plt.subplot(num_rows, 2*num_cols, 2*i+2)\n",
        "  plot_value_array(i, predictions, test_labels)"
      ],
      "execution_count": 44,
      "outputs": [
        {
          "output_type": "display_data",
          "data": {
            "image/png": "[encoded data removed]",
            "text/plain": [
              "<Figure size 864x720 with 30 Axes>"
            ]
          },
          "metadata": {
            "tags": []
          }
        }
      ]
    },
    {
      "cell_type": "code",
      "metadata": {
        "id": "fKw3SAx1c6W0",
        "colab_type": "code",
        "outputId": "0b02d208-56cc-491f-b888-7c592b84d0ff",
        "colab": {
          "base_uri": "https://localhost:8080/",
          "height": 35
        }
      },
      "source": [
        "index = 0\n",
        "test_image = test_images[index]\n",
        "print(test_image.shape)"
      ],
      "execution_count": 45,
      "outputs": [
        {
          "output_type": "stream",
          "text": [
            "(28, 28)\n"
          ],
          "name": "stdout"
        }
      ]
    },
    {
      "cell_type": "code",
      "metadata": {
        "id": "BEmnlFt8c95W",
        "colab_type": "code",
        "outputId": "06842658-516f-453a-8058-3592d06f2194",
        "colab": {
          "base_uri": "https://localhost:8080/",
          "height": 35
        }
      },
      "source": [
        "# Add the image to a batch where it's the only member\n",
        "test_image_single = (np.expand_dims(test_image, 0))\n",
        "print(test_image_single.shape)"
      ],
      "execution_count": 46,
      "outputs": [
        {
          "output_type": "stream",
          "text": [
            "(1, 28, 28)\n"
          ],
          "name": "stdout"
        }
      ]
    },
    {
      "cell_type": "code",
      "metadata": {
        "id": "B9upCkKFdA2I",
        "colab_type": "code",
        "outputId": "5d31dffd-3313-457b-f036-a23737f1c337",
        "colab": {
          "base_uri": "https://localhost:8080/",
          "height": 53
        }
      },
      "source": [
        "predictions_single = model.predict(test_image_single)\n",
        "print(predictions_single)"
      ],
      "execution_count": 47,
      "outputs": [
        {
          "output_type": "stream",
          "text": [
            "[[1.2372088e-09 8.0788134e-08 8.3169555e-11 1.5459285e-09 5.3909340e-13\n",
            "  7.6641420e-08 2.4451221e-11 9.0403209e-06 1.1980898e-09 9.9999082e-01]]\n"
          ],
          "name": "stdout"
        }
      ]
    },
    {
      "cell_type": "code",
      "metadata": {
        "id": "OqqlEjvodD9M",
        "colab_type": "code",
        "outputId": "adb6b498-39d0-4703-f327-6c5c98af9789",
        "colab": {
          "base_uri": "https://localhost:8080/",
          "height": 300
        }
      },
      "source": [
        "plot_value_array(0, predictions_single, test_labels)\n",
        "_ = plt.xticks(range(10), class_names, rotation=45)"
      ],
      "execution_count": 48,
      "outputs": [
        {
          "output_type": "display_data",
          "data": {
            "image/png": "[encoded data removed]",
            "text/plain": [
              "<Figure size 432x288 with 1 Axes>"
            ]
          },
          "metadata": {
            "tags": []
          }
        }
      ]
    },
    {
      "cell_type": "code",
      "metadata": {
        "id": "bawbT80fdGca",
        "colab_type": "code",
        "outputId": "c9315309-0223-4686-ecbe-88adb3c1357c",
        "colab": {
          "base_uri": "https://localhost:8080/",
          "height": 265
        }
      },
      "source": [
        "plt.imshow(test_image, cmap=plt.cm.binary)\n",
        "plt.grid(None)"
      ],
      "execution_count": 49,
      "outputs": [
        {
          "output_type": "display_data",
          "data": {
            "image/png": "[encoded data removed]",
            "text/plain": [
              "<Figure size 432x288 with 1 Axes>"
            ]
          },
          "metadata": {
            "tags": []
          }
        }
      ]
    },
    {
      "cell_type": "code",
      "metadata": {
        "id": "WfZwvqtodLdW",
        "colab_type": "code",
        "outputId": "3e3b7caf-b733-4203-e511-32884fc2e18d",
        "colab": {
          "base_uri": "https://localhost:8080/",
          "height": 35
        }
      },
      "source": [
        "np.argmax(predictions_single[0])"
      ],
      "execution_count": 50,
      "outputs": [
        {
          "output_type": "execute_result",
          "data": {
            "text/plain": [
              "9"
            ]
          },
          "metadata": {
            "tags": []
          },
          "execution_count": 50
        }
      ]
    },
    {
      "cell_type": "code",
      "metadata": {
        "id": "R76kxyHUdOh0",
        "colab_type": "code",
        "outputId": "80b0f6bf-df98-48d8-bc22-a71229391ade",
        "colab": {
          "base_uri": "https://localhost:8080/",
          "height": 35
        }
      },
      "source": [
        "test_labels[index]"
      ],
      "execution_count": 51,
      "outputs": [
        {
          "output_type": "execute_result",
          "data": {
            "text/plain": [
              "9"
            ]
          },
          "metadata": {
            "tags": []
          },
          "execution_count": 51
        }
      ]
    },
    {
      "cell_type": "markdown",
      "metadata": {
        "id": "AM-2nss2ep6j",
        "colab_type": "text"
      },
      "source": [
        "##Setting up Good Model"
      ]
    },
    {
      "cell_type": "code",
      "metadata": {
        "id": "Oxh9tYxKdRfM",
        "colab_type": "code",
        "outputId": "bd6596c4-f4ab-4275-d735-d4d3b8465292",
        "colab": {
          "base_uri": "https://localhost:8080/",
          "height": 775
        }
      },
      "source": [
        "# set up the layers\n",
        "\n",
        "model = keras.Sequential([\n",
        "    keras.layers.Flatten(input_shape=(28, 28)),\n",
        "    keras.layers.Dense(128, activation=tf.nn.relu),\n",
        "    keras.layers.Dropout(0.3),\n",
        "    keras.layers.Dense(256, activation=tf.nn.relu),\n",
        "    keras.layers.Dropout(0.3),\n",
        "    keras.layers.Dense(256, activation=tf.nn.relu),\n",
        "    keras.layers.Dense(10, activation=tf.nn.softmax)\n",
        "])\n",
        "\n",
        "# compile the model\n",
        "\n",
        "model.compile(optimizer='adam',\n",
        "             loss='sparse_categorical_crossentropy',\n",
        "             metrics=['accuracy'])\n",
        "\n",
        "# train the model\n",
        "epochs = 20\n",
        "history = model.fit(train_images, \n",
        "                      train_labels, \n",
        "                      epochs=epochs,  \n",
        "                      validation_data=(test_images, test_labels))"
      ],
      "execution_count": 187,
      "outputs": [
        {
          "output_type": "stream",
          "text": [
            "Train on 60000 samples, validate on 10000 samples\n",
            "Epoch 1/20\n",
            "60000/60000 [==============================] - 9s 155us/sample - loss: 0.5855 - acc: 0.7854 - val_loss: 0.4390 - val_acc: 0.8354\n",
            "Epoch 2/20\n",
            "60000/60000 [==============================] - 9s 146us/sample - loss: 0.4467 - acc: 0.8377 - val_loss: 0.4248 - val_acc: 0.8412\n",
            "Epoch 3/20\n",
            "60000/60000 [==============================] - 9s 147us/sample - loss: 0.4175 - acc: 0.8484 - val_loss: 0.3891 - val_acc: 0.8598\n",
            "Epoch 4/20\n",
            "60000/60000 [==============================] - 9s 143us/sample - loss: 0.3959 - acc: 0.8551 - val_loss: 0.3744 - val_acc: 0.8628\n",
            "Epoch 5/20\n",
            "60000/60000 [==============================] - 9s 143us/sample - loss: 0.3785 - acc: 0.8612 - val_loss: 0.3776 - val_acc: 0.8643\n",
            "Epoch 6/20\n",
            "60000/60000 [==============================] - 9s 142us/sample - loss: 0.3709 - acc: 0.8627 - val_loss: 0.3890 - val_acc: 0.8553\n",
            "Epoch 7/20\n",
            "60000/60000 [==============================] - 9s 143us/sample - loss: 0.3576 - acc: 0.8689 - val_loss: 0.3702 - val_acc: 0.8630\n",
            "Epoch 8/20\n",
            "60000/60000 [==============================] - 9s 144us/sample - loss: 0.3496 - acc: 0.8720 - val_loss: 0.3635 - val_acc: 0.8687\n",
            "Epoch 9/20\n",
            "60000/60000 [==============================] - 9s 142us/sample - loss: 0.3430 - acc: 0.8753 - val_loss: 0.3492 - val_acc: 0.8706\n",
            "Epoch 10/20\n",
            "60000/60000 [==============================] - 8s 140us/sample - loss: 0.3357 - acc: 0.8779 - val_loss: 0.3495 - val_acc: 0.8756\n",
            "Epoch 11/20\n",
            "60000/60000 [==============================] - 9s 142us/sample - loss: 0.3276 - acc: 0.8785 - val_loss: 0.3379 - val_acc: 0.8791\n",
            "Epoch 12/20\n",
            "60000/60000 [==============================] - 9s 142us/sample - loss: 0.3258 - acc: 0.8801 - val_loss: 0.3571 - val_acc: 0.8655\n",
            "Epoch 13/20\n",
            "60000/60000 [==============================] - 8s 140us/sample - loss: 0.3235 - acc: 0.8813 - val_loss: 0.3416 - val_acc: 0.8771\n",
            "Epoch 14/20\n",
            "60000/60000 [==============================] - 9s 143us/sample - loss: 0.3210 - acc: 0.8813 - val_loss: 0.3350 - val_acc: 0.8761\n",
            "Epoch 15/20\n",
            "60000/60000 [==============================] - 9s 143us/sample - loss: 0.3142 - acc: 0.8853 - val_loss: 0.3370 - val_acc: 0.8785\n",
            "Epoch 16/20\n",
            "60000/60000 [==============================] - 8s 141us/sample - loss: 0.3114 - acc: 0.8848 - val_loss: 0.3307 - val_acc: 0.8840\n",
            "Epoch 17/20\n",
            "60000/60000 [==============================] - 8s 140us/sample - loss: 0.3069 - acc: 0.8858 - val_loss: 0.3327 - val_acc: 0.8809\n",
            "Epoch 18/20\n",
            "60000/60000 [==============================] - 9s 144us/sample - loss: 0.3060 - acc: 0.8869 - val_loss: 0.3360 - val_acc: 0.8786\n",
            "Epoch 19/20\n",
            "60000/60000 [==============================] - 9s 142us/sample - loss: 0.3055 - acc: 0.8876 - val_loss: 0.3360 - val_acc: 0.8819\n",
            "Epoch 20/20\n",
            "60000/60000 [==============================] - 8s 140us/sample - loss: 0.3015 - acc: 0.8888 - val_loss: 0.3302 - val_acc: 0.8792\n"
          ],
          "name": "stdout"
        }
      ]
    },
    {
      "cell_type": "code",
      "metadata": {
        "id": "XerabBxedVw2",
        "colab_type": "code",
        "outputId": "43b8f441-ab86-41ba-bc57-cc7b1e7514e6",
        "colab": {
          "base_uri": "https://localhost:8080/",
          "height": 53
        }
      },
      "source": [
        "test_loss, test_acc = model.evaluate(test_images, test_labels)\n",
        "\n",
        "print('Test accuracy:', test_acc)"
      ],
      "execution_count": 188,
      "outputs": [
        {
          "output_type": "stream",
          "text": [
            "10000/10000 [==============================] - 0s 48us/sample - loss: 0.3302 - acc: 0.8792\n",
            "Test accuracy: 0.8792\n"
          ],
          "name": "stdout"
        }
      ]
    },
    {
      "cell_type": "code",
      "metadata": {
        "id": "De0tDOaadYq9",
        "colab_type": "code",
        "colab": {}
      },
      "source": [
        "history_dict = history.history\n",
        "loss_values = history_dict['loss']\n",
        "test_loss_values = history_dict['val_loss']\n",
        "epochs_range = range(1, epochs+1)"
      ],
      "execution_count": 0,
      "outputs": []
    },
    {
      "cell_type": "code",
      "metadata": {
        "id": "JRKG-e0ydayZ",
        "colab_type": "code",
        "outputId": "74409c24-1ce0-4721-b09f-0d3f1578c872",
        "colab": {
          "base_uri": "https://localhost:8080/",
          "height": 295
        }
      },
      "source": [
        "plt.plot(epochs_range, loss_values, 'bo', label='Training loss')\n",
        "plt.plot(epochs_range, test_loss_values, 'ro', label='Test loss')\n",
        "plt.title('Training and test loss')\n",
        "plt.xlabel('Epochs')\n",
        "plt.ylabel('Loss')\n",
        "plt.legend()\n",
        "plt.show()"
      ],
      "execution_count": 190,
      "outputs": [
        {
          "output_type": "display_data",
          "data": {
            "image/png": "[encoded data removed]",
            "text/plain": [
              "<Figure size 432x288 with 1 Axes>"
            ]
          },
          "metadata": {
            "tags": []
          }
        }
      ]
    },
    {
      "cell_type": "code",
      "metadata": {
        "id": "2-Gcq3QLdczL",
        "colab_type": "code",
        "colab": {}
      },
      "source": [
        "acc_values = history_dict['acc']\n",
        "test_acc_values = history_dict['val_acc']"
      ],
      "execution_count": 0,
      "outputs": []
    },
    {
      "cell_type": "code",
      "metadata": {
        "id": "qw05E0Wrde0o",
        "colab_type": "code",
        "outputId": "831e03fb-c12d-45e5-fa1a-d7b4ecb328a7",
        "colab": {
          "base_uri": "https://localhost:8080/",
          "height": 295
        }
      },
      "source": [
        "plt.plot(epochs_range, acc_values, 'bo', label='Training accuracy')\n",
        "plt.plot(epochs_range, test_acc_values, 'ro', label='Test accuracy')\n",
        "plt.title('Training and test accuracy')\n",
        "plt.xlabel('Epochs')\n",
        "plt.ylabel('Accuracy')\n",
        "plt.legend()\n",
        "plt.show()"
      ],
      "execution_count": 192,
      "outputs": [
        {
          "output_type": "display_data",
          "data": {
            "image/png": "[encoded data removed]",
            "text/plain": [
              "<Figure size 432x288 with 1 Axes>"
            ]
          },
          "metadata": {
            "tags": []
          }
        }
      ]
    },
    {
      "cell_type": "code",
      "metadata": {
        "id": "BgkiIHJZdhpV",
        "colab_type": "code",
        "colab": {}
      },
      "source": [
        "predictions = model.predict(test_images)"
      ],
      "execution_count": 0,
      "outputs": []
    },
    {
      "cell_type": "code",
      "metadata": {
        "id": "KNyiXFysdkZ0",
        "colab_type": "code",
        "outputId": "e75b5853-1801-4ef2-871c-d7474f607edd",
        "colab": {
          "base_uri": "https://localhost:8080/",
          "height": 71
        }
      },
      "source": [
        "index = 0\n",
        "predictions[index]"
      ],
      "execution_count": 194,
      "outputs": [
        {
          "output_type": "execute_result",
          "data": {
            "text/plain": [
              "array([1.3471125e-08, 1.1827589e-08, 5.1897858e-10, 6.4374241e-08,\n",
              "       4.9666552e-11, 1.3495352e-04, 1.8566418e-09, 1.8551918e-02,\n",
              "       3.5585924e-07, 9.8131263e-01], dtype=float32)"
            ]
          },
          "metadata": {
            "tags": []
          },
          "execution_count": 194
        }
      ]
    },
    {
      "cell_type": "code",
      "metadata": {
        "id": "-ixFQwjodmvR",
        "colab_type": "code",
        "outputId": "b31f4318-810d-4260-c740-8e5ea43ef8dc",
        "colab": {
          "base_uri": "https://localhost:8080/",
          "height": 35
        }
      },
      "source": [
        "np.argmax(predictions[index])"
      ],
      "execution_count": 195,
      "outputs": [
        {
          "output_type": "execute_result",
          "data": {
            "text/plain": [
              "9"
            ]
          },
          "metadata": {
            "tags": []
          },
          "execution_count": 195
        }
      ]
    },
    {
      "cell_type": "code",
      "metadata": {
        "id": "du3n-quHdpkM",
        "colab_type": "code",
        "outputId": "6f45ea0c-60ef-4938-a45b-dc7e717e283f",
        "colab": {
          "base_uri": "https://localhost:8080/",
          "height": 35
        }
      },
      "source": [
        "test_labels[index]"
      ],
      "execution_count": 196,
      "outputs": [
        {
          "output_type": "execute_result",
          "data": {
            "text/plain": [
              "9"
            ]
          },
          "metadata": {
            "tags": []
          },
          "execution_count": 196
        }
      ]
    },
    {
      "cell_type": "code",
      "metadata": {
        "id": "d9csEA_bdr85",
        "colab_type": "code",
        "outputId": "9f630b14-6cd7-4536-8eaa-be1a4d6b7f3c",
        "colab": {
          "base_uri": "https://localhost:8080/",
          "height": 203
        }
      },
      "source": [
        "index = 0\n",
        "plt.figure(figsize=(6,3))\n",
        "plt.subplot(1,2,1)\n",
        "plot_image(index, predictions, test_labels, test_images)\n",
        "plt.subplot(1,2,2)\n",
        "plot_value_array(index, predictions,  test_labels)"
      ],
      "execution_count": 197,
      "outputs": [
        {
          "output_type": "display_data",
          "data": {
            "image/png": "[encoded data removed]",
            "text/plain": [
              "<Figure size 432x216 with 2 Axes>"
            ]
          },
          "metadata": {
            "tags": []
          }
        }
      ]
    },
    {
      "cell_type": "code",
      "metadata": {
        "id": "pObDPX6jdwxZ",
        "colab_type": "code",
        "outputId": "061d11b1-f405-49fd-d3d9-ff6a1be480bc",
        "colab": {
          "base_uri": "https://localhost:8080/",
          "height": 589
        }
      },
      "source": [
        "# Plot the first X test images, their predicted label, and the true label\n",
        "# Color correct predictions in blue, incorrect predictions in red\n",
        "num_rows = 5\n",
        "num_cols = 3\n",
        "num_images = num_rows*num_cols\n",
        "plt.figure(figsize=(2*2*num_cols, 2*num_rows))\n",
        "for i in range(num_images):\n",
        "  plt.subplot(num_rows, 2*num_cols, 2*i+1)\n",
        "  plot_image(i, predictions, test_labels, test_images)\n",
        "  plt.subplot(num_rows, 2*num_cols, 2*i+2)\n",
        "  plot_value_array(i, predictions, test_labels)"
      ],
      "execution_count": 198,
      "outputs": [
        {
          "output_type": "display_data",
          "data": {
            "image/png": "[encoded data removed]",
            "text/plain": [
              "<Figure size 864x720 with 30 Axes>"
            ]
          },
          "metadata": {
            "tags": []
          }
        }
      ]
    },
    {
      "cell_type": "code",
      "metadata": {
        "id": "8syQadHnd6pU",
        "colab_type": "code",
        "outputId": "7b23832b-fda3-4b54-d197-ba508c3008fb",
        "colab": {
          "base_uri": "https://localhost:8080/",
          "height": 35
        }
      },
      "source": [
        "index = 0\n",
        "test_image = test_images[index]\n",
        "print(test_image.shape)"
      ],
      "execution_count": 199,
      "outputs": [
        {
          "output_type": "stream",
          "text": [
            "(28, 28)\n"
          ],
          "name": "stdout"
        }
      ]
    },
    {
      "cell_type": "code",
      "metadata": {
        "id": "U4C98ptNd9d9",
        "colab_type": "code",
        "outputId": "b4d5b1cd-dc55-43d0-ab19-e4fe023b947e",
        "colab": {
          "base_uri": "https://localhost:8080/",
          "height": 35
        }
      },
      "source": [
        "# Add the image to a batch where it's the only member\n",
        "test_image_single = (np.expand_dims(test_image, 0))\n",
        "print(test_image_single.shape)"
      ],
      "execution_count": 200,
      "outputs": [
        {
          "output_type": "stream",
          "text": [
            "(1, 28, 28)\n"
          ],
          "name": "stdout"
        }
      ]
    },
    {
      "cell_type": "code",
      "metadata": {
        "id": "q3w3BmyoeAVI",
        "colab_type": "code",
        "outputId": "c9ebdd9f-6007-4b4b-9d8f-5fe5a4da12c3",
        "colab": {
          "base_uri": "https://localhost:8080/",
          "height": 53
        }
      },
      "source": [
        "predictions_single = model.predict(test_image_single)\n",
        "print(predictions_single)"
      ],
      "execution_count": 201,
      "outputs": [
        {
          "output_type": "stream",
          "text": [
            "[[1.3471099e-08 1.1827612e-08 5.1897664e-10 6.4374241e-08 4.9666552e-11\n",
            "  1.3495352e-04 1.8566384e-09 1.8551933e-02 3.5585924e-07 9.8131263e-01]]\n"
          ],
          "name": "stdout"
        }
      ]
    },
    {
      "cell_type": "code",
      "metadata": {
        "id": "TzJC9w6seDmK",
        "colab_type": "code",
        "outputId": "5a74d2dd-d628-4ab0-e07a-4a19804a2ee4",
        "colab": {
          "base_uri": "https://localhost:8080/",
          "height": 300
        }
      },
      "source": [
        "plot_value_array(0, predictions_single, test_labels)\n",
        "_ = plt.xticks(range(10), class_names, rotation=45)"
      ],
      "execution_count": 202,
      "outputs": [
        {
          "output_type": "display_data",
          "data": {
            "image/png": "[encoded data removed]",
            "text/plain": [
              "<Figure size 432x288 with 1 Axes>"
            ]
          },
          "metadata": {
            "tags": []
          }
        }
      ]
    },
    {
      "cell_type": "code",
      "metadata": {
        "id": "wc2mcoQOeGLY",
        "colab_type": "code",
        "outputId": "2228e517-a088-402a-a694-e5c6fbe81619",
        "colab": {
          "base_uri": "https://localhost:8080/",
          "height": 265
        }
      },
      "source": [
        "plt.imshow(test_image, cmap=plt.cm.binary)\n",
        "plt.grid(None)"
      ],
      "execution_count": 203,
      "outputs": [
        {
          "output_type": "display_data",
          "data": {
            "image/png": "[encoded data removed]",
            "text/plain": [
              "<Figure size 432x288 with 1 Axes>"
            ]
          },
          "metadata": {
            "tags": []
          }
        }
      ]
    },
    {
      "cell_type": "code",
      "metadata": {
        "id": "1L8SZMIQeIgN",
        "colab_type": "code",
        "outputId": "79152c3b-9afb-4b62-cb22-c2da18a8abd1",
        "colab": {
          "base_uri": "https://localhost:8080/",
          "height": 35
        }
      },
      "source": [
        "np.argmax(predictions_single[0])"
      ],
      "execution_count": 204,
      "outputs": [
        {
          "output_type": "execute_result",
          "data": {
            "text/plain": [
              "9"
            ]
          },
          "metadata": {
            "tags": []
          },
          "execution_count": 204
        }
      ]
    },
    {
      "cell_type": "code",
      "metadata": {
        "id": "svjbvVSkeLTK",
        "colab_type": "code",
        "outputId": "38d87503-2eb9-4569-d2e0-c4e820246214",
        "colab": {
          "base_uri": "https://localhost:8080/",
          "height": 35
        }
      },
      "source": [
        "test_labels[index]"
      ],
      "execution_count": 205,
      "outputs": [
        {
          "output_type": "execute_result",
          "data": {
            "text/plain": [
              "9"
            ]
          },
          "metadata": {
            "tags": []
          },
          "execution_count": 205
        }
      ]
    },
    {
      "cell_type": "code",
      "metadata": {
        "id": "zQTh-_wxeOJ1",
        "colab_type": "code",
        "colab": {}
      },
      "source": [
        ""
      ],
      "execution_count": 0,
      "outputs": []
    }
  ]
}