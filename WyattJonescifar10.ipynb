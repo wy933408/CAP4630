{
  "nbformat": 4,
  "nbformat_minor": 0,
  "metadata": {
    "colab": {
      "name": "WyattJonescifar10.ipynb",
      "provenance": []
    },
    "kernelspec": {
      "name": "python3",
      "display_name": "Python 3"
    }
  },
  "cells": [
    {
      "cell_type": "code",
      "metadata": {
        "id": "KOAz8AO8WOk1",
        "colab_type": "code",
        "outputId": "58bac495-6314-4095-f944-a5bbb7f6e791",
        "colab": {
          "base_uri": "https://localhost:8080/",
          "height": 68
        }
      },
      "source": [
        "%matplotlib inline\n",
        "%tensorflow_version 1.x\n",
        "\n",
        "import matplotlib.pyplot as plt\n",
        "from keras.datasets import cifar10\n",
        "import tensorflow as tf\n",
        "from keras import layers\n",
        "from keras import models\n",
        "from keras import optimizers\n",
        "from keras.preprocessing import image\n",
        "from keras.preprocessing.image import ImageDataGenerator\n",
        "from keras.utils import to_categorical\n",
        "\n",
        "\n",
        "(train_images, train_labels), (test_images, test_labels) = cifar10.load_data()\n",
        "train_labels = to_categorical(train_labels)\n",
        "test_labels = to_categorical(test_labels)"
      ],
      "execution_count": 0,
      "outputs": [
        {
          "output_type": "stream",
          "text": [
            "Using TensorFlow backend.\n"
          ],
          "name": "stderr"
        },
        {
          "output_type": "stream",
          "text": [
            "Downloading data from https://www.cs.toronto.edu/~kriz/cifar-10-python.tar.gz\n",
            "170500096/170498071 [==============================] - 2s 0us/step\n"
          ],
          "name": "stdout"
        }
      ]
    },
    {
      "cell_type": "markdown",
      "metadata": {
        "id": "n_d9o9KLXoTo",
        "colab_type": "text"
      },
      "source": [
        "##Underfitting Model"
      ]
    },
    {
      "cell_type": "code",
      "metadata": {
        "id": "ED6r0rJZX3hb",
        "colab_type": "code",
        "colab": {}
      },
      "source": [
        "model = models.Sequential()\n",
        "# conv layers\n",
        "# 1\n",
        "model.add(layers.Conv2D(8, (5, 5), activation='relu', input_shape=(32, 32, 3)))\n",
        "model.add(layers.MaxPooling2D((2, 2)))\n",
        "# dense layers\n",
        "model.add(layers.Flatten())\n",
        "model.add(layers.Dense(8, activation='relu'))\n",
        "model.add(layers.Dense(10, activation='sigmoid'))"
      ],
      "execution_count": 0,
      "outputs": []
    },
    {
      "cell_type": "code",
      "metadata": {
        "id": "q5-6c57ckc5n",
        "colab_type": "code",
        "outputId": "e360a6fc-fdc8-4d84-b51d-c3d5659afb94",
        "colab": {
          "base_uri": "https://localhost:8080/",
          "height": 341
        }
      },
      "source": [
        "model.summary()"
      ],
      "execution_count": 0,
      "outputs": [
        {
          "output_type": "stream",
          "text": [
            "Model: \"sequential_6\"\n",
            "_________________________________________________________________\n",
            "Layer (type)                 Output Shape              Param #   \n",
            "=================================================================\n",
            "conv2d_12 (Conv2D)           (None, 28, 28, 8)         608       \n",
            "_________________________________________________________________\n",
            "max_pooling2d_12 (MaxPooling (None, 14, 14, 8)         0         \n",
            "_________________________________________________________________\n",
            "flatten_6 (Flatten)          (None, 1568)              0         \n",
            "_________________________________________________________________\n",
            "dense_11 (Dense)             (None, 8)                 12552     \n",
            "_________________________________________________________________\n",
            "dense_12 (Dense)             (None, 10)                90        \n",
            "=================================================================\n",
            "Total params: 13,250\n",
            "Trainable params: 13,250\n",
            "Non-trainable params: 0\n",
            "_________________________________________________________________\n"
          ],
          "name": "stdout"
        }
      ]
    },
    {
      "cell_type": "code",
      "metadata": {
        "id": "EAbi8RiZlVn1",
        "colab_type": "code",
        "colab": {}
      },
      "source": [
        "model.compile(\n",
        "    loss='binary_crossentropy', \n",
        "    optimizer=optimizers.RMSprop(lr=1e-6), \n",
        "    metrics=['acc'])"
      ],
      "execution_count": 0,
      "outputs": []
    },
    {
      "cell_type": "code",
      "metadata": {
        "id": "F_XXG3UTdSVS",
        "colab_type": "code",
        "outputId": "667e4133-8002-46e6-d306-20ab6c2a9b47",
        "colab": {
          "base_uri": "https://localhost:8080/",
          "height": 397
        }
      },
      "source": [
        "datagen = ImageDataGenerator(\n",
        "    rescale=1./255,\n",
        "    # rotation_range=40,\n",
        "    # width_shift_range=0.2,\n",
        "    # height_shift_range=0.2,\n",
        "    # shear_range=0.2,\n",
        "    # zoom_range=0.2,\n",
        "    # horizontal_flip=True,\n",
        "    # fill_mode='nearest'\n",
        "    )\n",
        "\n",
        "history = model.fit_generator(\n",
        "    datagen.flow(train_images, train_labels, batch_size=8),\n",
        "    steps_per_epoch=100,\n",
        "    epochs=10,\n",
        "    validation_data=datagen.flow(test_images, test_labels, batch_size=8),\n",
        "    validation_steps=50\n",
        ")"
      ],
      "execution_count": 0,
      "outputs": [
        {
          "output_type": "stream",
          "text": [
            "Epoch 1/10\n",
            "100/100 [==============================] - 1s 14ms/step - loss: 0.6796 - acc: 0.5915 - val_loss: 0.6799 - val_acc: 0.5940\n",
            "Epoch 2/10\n",
            "100/100 [==============================] - 1s 9ms/step - loss: 0.6780 - acc: 0.6036 - val_loss: 0.6762 - val_acc: 0.6093\n",
            "Epoch 3/10\n",
            "100/100 [==============================] - 1s 9ms/step - loss: 0.6757 - acc: 0.6113 - val_loss: 0.6762 - val_acc: 0.6195\n",
            "Epoch 4/10\n",
            "100/100 [==============================] - 1s 9ms/step - loss: 0.6745 - acc: 0.6236 - val_loss: 0.6735 - val_acc: 0.6253\n",
            "Epoch 5/10\n",
            "100/100 [==============================] - 1s 9ms/step - loss: 0.6731 - acc: 0.6293 - val_loss: 0.6742 - val_acc: 0.6260\n",
            "Epoch 6/10\n",
            "100/100 [==============================] - 1s 9ms/step - loss: 0.6726 - acc: 0.6361 - val_loss: 0.6702 - val_acc: 0.6493\n",
            "Epoch 7/10\n",
            "100/100 [==============================] - 1s 9ms/step - loss: 0.6714 - acc: 0.6453 - val_loss: 0.6701 - val_acc: 0.6415\n",
            "Epoch 8/10\n",
            "100/100 [==============================] - 1s 9ms/step - loss: 0.6686 - acc: 0.6614 - val_loss: 0.6668 - val_acc: 0.6523\n",
            "Epoch 9/10\n",
            "100/100 [==============================] - 1s 9ms/step - loss: 0.6667 - acc: 0.6650 - val_loss: 0.6668 - val_acc: 0.6760\n",
            "Epoch 10/10\n",
            "100/100 [==============================] - 1s 9ms/step - loss: 0.6663 - acc: 0.6690 - val_loss: 0.6665 - val_acc: 0.6760\n"
          ],
          "name": "stdout"
        }
      ]
    },
    {
      "cell_type": "code",
      "metadata": {
        "id": "6A37QUyHdNYI",
        "colab_type": "code",
        "outputId": "c4d9987d-de67-4cda-bca0-0927e3662184",
        "colab": {
          "base_uri": "https://localhost:8080/",
          "height": 545
        }
      },
      "source": [
        "acc = history.history['acc']\n",
        "val_acc = history.history['val_acc']\n",
        "\n",
        "loss = history.history['loss']\n",
        "val_loss = history.history['val_loss']\n",
        "\n",
        "epochs = range(1, len(acc) + 1)\n",
        "\n",
        "# training and validation accuracy\n",
        "\n",
        "plt.plot(epochs, acc, 'bo', label='training acc')\n",
        "plt.plot(epochs, val_acc, 'b', label='validation acc')\n",
        "plt.title('training and validation accuracy')\n",
        "plt.legend()\n",
        "\n",
        "plt.figure()\n",
        "\n",
        "# training and validation loss\n",
        "\n",
        "plt.plot(epochs, loss, 'bo', label='training loss')\n",
        "plt.plot(epochs, val_loss, 'b', label='validation loss')\n",
        "plt.title('training and validation loss')\n",
        "plt.legend()\n",
        "\n",
        "plt.show()"
      ],
      "execution_count": 0,
      "outputs": [
        {
          "output_type": "display_data",
          "data": {
            "image/png": "[encoded data removed]",
            "text/plain": [
              "<Figure size 432x288 with 1 Axes>"
            ]
          },
          "metadata": {
            "tags": []
          }
        },
        {
          "output_type": "display_data",
          "data": {
            "image/png": "[encoded data removed]",
            "text/plain": [
              "<Figure size 432x288 with 1 Axes>"
            ]
          },
          "metadata": {
            "tags": []
          }
        }
      ]
    },
    {
      "cell_type": "markdown",
      "metadata": {
        "id": "3xUIRmnLX5zh",
        "colab_type": "text"
      },
      "source": [
        "##Overfitting Model"
      ]
    },
    {
      "cell_type": "code",
      "metadata": {
        "id": "lTKWBvAGyOaX",
        "colab_type": "code",
        "colab": {}
      },
      "source": [
        "(train_images, train_labels), (test_images, test_labels) = cifar10.load_data()\n",
        "train_labels = to_categorical(train_labels)\n",
        "test_labels = to_categorical(test_labels)"
      ],
      "execution_count": 0,
      "outputs": []
    },
    {
      "cell_type": "code",
      "metadata": {
        "id": "xXUKUXa8f6v7",
        "colab_type": "code",
        "outputId": "46c039b8-19cb-4448-e329-b0a0c3dfd156",
        "colab": {
          "base_uri": "https://localhost:8080/",
          "height": 153
        }
      },
      "source": [
        "model2 = models.Sequential()\n",
        "# conv layers\n",
        "# 1\n",
        "model2.add(layers.Conv2D(32, (3, 3), activation='relu', input_shape=(32, 32, 3)))\n",
        "model2.add(layers.MaxPooling2D(2, 2))\n",
        "# dense layers\n",
        "model2.add(layers.Flatten())\n",
        "model2.add(layers.Dense(512, activation='relu'))\n",
        "model2.add(layers.Dense(10, activation='sigmoid'))"
      ],
      "execution_count": 0,
      "outputs": [
        {
          "output_type": "stream",
          "text": [
            "WARNING:tensorflow:From /usr/local/lib/python3.6/dist-packages/keras/backend/tensorflow_backend.py:66: The name tf.get_default_graph is deprecated. Please use tf.compat.v1.get_default_graph instead.\n",
            "\n",
            "WARNING:tensorflow:From /usr/local/lib/python3.6/dist-packages/keras/backend/tensorflow_backend.py:541: The name tf.placeholder is deprecated. Please use tf.compat.v1.placeholder instead.\n",
            "\n",
            "WARNING:tensorflow:From /usr/local/lib/python3.6/dist-packages/keras/backend/tensorflow_backend.py:4432: The name tf.random_uniform is deprecated. Please use tf.random.uniform instead.\n",
            "\n",
            "WARNING:tensorflow:From /usr/local/lib/python3.6/dist-packages/keras/backend/tensorflow_backend.py:4267: The name tf.nn.max_pool is deprecated. Please use tf.nn.max_pool2d instead.\n",
            "\n"
          ],
          "name": "stdout"
        }
      ]
    },
    {
      "cell_type": "code",
      "metadata": {
        "id": "Wqxr3oMDXwqv",
        "colab_type": "code",
        "outputId": "6ecbafd5-04e4-4a35-b033-4329deb98711",
        "colab": {
          "base_uri": "https://localhost:8080/",
          "height": 323
        }
      },
      "source": [
        "model2.summary()"
      ],
      "execution_count": 0,
      "outputs": [
        {
          "output_type": "stream",
          "text": [
            "Model: \"sequential_1\"\n",
            "_________________________________________________________________\n",
            "Layer (type)                 Output Shape              Param #   \n",
            "=================================================================\n",
            "conv2d_1 (Conv2D)            (None, 30, 30, 32)        896       \n",
            "_________________________________________________________________\n",
            "max_pooling2d_1 (MaxPooling2 (None, 15, 15, 32)        0         \n",
            "_________________________________________________________________\n",
            "flatten_1 (Flatten)          (None, 7200)              0         \n",
            "_________________________________________________________________\n",
            "dense_1 (Dense)              (None, 512)               3686912   \n",
            "_________________________________________________________________\n",
            "dense_2 (Dense)              (None, 10)                5130      \n",
            "=================================================================\n",
            "Total params: 3,692,938\n",
            "Trainable params: 3,692,938\n",
            "Non-trainable params: 0\n",
            "_________________________________________________________________\n"
          ],
          "name": "stdout"
        }
      ]
    },
    {
      "cell_type": "code",
      "metadata": {
        "id": "reRolQP5XylB",
        "colab_type": "code",
        "outputId": "3367ac83-4563-4e8b-e39b-c73cdf20f204",
        "colab": {
          "base_uri": "https://localhost:8080/",
          "height": 136
        }
      },
      "source": [
        "model2.compile(\n",
        "    loss='binary_crossentropy', \n",
        "    optimizer=optimizers.RMSprop(lr=1e-4), \n",
        "    metrics=['acc'])"
      ],
      "execution_count": 0,
      "outputs": [
        {
          "output_type": "stream",
          "text": [
            "WARNING:tensorflow:From /usr/local/lib/python3.6/dist-packages/keras/optimizers.py:793: The name tf.train.Optimizer is deprecated. Please use tf.compat.v1.train.Optimizer instead.\n",
            "\n",
            "WARNING:tensorflow:From /usr/local/lib/python3.6/dist-packages/keras/backend/tensorflow_backend.py:3657: The name tf.log is deprecated. Please use tf.math.log instead.\n",
            "\n",
            "WARNING:tensorflow:From /usr/local/lib/python3.6/dist-packages/tensorflow_core/python/ops/nn_impl.py:183: where (from tensorflow.python.ops.array_ops) is deprecated and will be removed in a future version.\n",
            "Instructions for updating:\n",
            "Use tf.where in 2.0, which has the same broadcast rule as np.where\n"
          ],
          "name": "stdout"
        }
      ]
    },
    {
      "cell_type": "code",
      "metadata": {
        "id": "tXuN31eRX0iL",
        "colab_type": "code",
        "outputId": "8847deca-3885-4ca6-9750-07890dffd59f",
        "colab": {
          "base_uri": "https://localhost:8080/",
          "height": 1000
        }
      },
      "source": [
        "datagen = ImageDataGenerator(\n",
        "    rescale=1./255,\n",
        "    # rotation_range=40,\n",
        "    # width_shift_range=0.2,\n",
        "    # height_shift_range=0.2,\n",
        "    # shear_range=0.2,\n",
        "    # zoom_range=0.2,\n",
        "    # horizontal_flip=True,\n",
        "    # fill_mode='nearest'\n",
        "    )\n",
        "datagen2 = ImageDataGenerator(\n",
        "    rescale=1./255,\n",
        "    rotation_range=40,\n",
        "    width_shift_range=0.2,\n",
        "    height_shift_range=0.2,\n",
        "    shear_range=0.2,\n",
        "    zoom_range=0.2,\n",
        "    horizontal_flip=True,\n",
        "    fill_mode='nearest'\n",
        "    )\n",
        "\n",
        "history = model2.fit_generator(\n",
        "    datagen.flow(train_images, train_labels, batch_size=20),\n",
        "    steps_per_epoch=100,\n",
        "    epochs=50,\n",
        "    validation_data=datagen2.flow(test_images, test_labels, batch_size=20),\n",
        "    validation_steps=50\n",
        ")"
      ],
      "execution_count": 0,
      "outputs": [
        {
          "output_type": "stream",
          "text": [
            "WARNING:tensorflow:From /usr/local/lib/python3.6/dist-packages/keras/backend/tensorflow_backend.py:1033: The name tf.assign_add is deprecated. Please use tf.compat.v1.assign_add instead.\n",
            "\n",
            "WARNING:tensorflow:From /usr/local/lib/python3.6/dist-packages/keras/backend/tensorflow_backend.py:1020: The name tf.assign is deprecated. Please use tf.compat.v1.assign instead.\n",
            "\n",
            "WARNING:tensorflow:From /usr/local/lib/python3.6/dist-packages/keras/backend/tensorflow_backend.py:3005: The name tf.Session is deprecated. Please use tf.compat.v1.Session instead.\n",
            "\n",
            "Epoch 1/50\n",
            "WARNING:tensorflow:From /usr/local/lib/python3.6/dist-packages/keras/backend/tensorflow_backend.py:190: The name tf.get_default_session is deprecated. Please use tf.compat.v1.get_default_session instead.\n",
            "\n",
            "WARNING:tensorflow:From /usr/local/lib/python3.6/dist-packages/keras/backend/tensorflow_backend.py:197: The name tf.ConfigProto is deprecated. Please use tf.compat.v1.ConfigProto instead.\n",
            "\n",
            "WARNING:tensorflow:From /usr/local/lib/python3.6/dist-packages/keras/backend/tensorflow_backend.py:207: The name tf.global_variables is deprecated. Please use tf.compat.v1.global_variables instead.\n",
            "\n",
            "WARNING:tensorflow:From /usr/local/lib/python3.6/dist-packages/keras/backend/tensorflow_backend.py:216: The name tf.is_variable_initialized is deprecated. Please use tf.compat.v1.is_variable_initialized instead.\n",
            "\n",
            "WARNING:tensorflow:From /usr/local/lib/python3.6/dist-packages/keras/backend/tensorflow_backend.py:223: The name tf.variables_initializer is deprecated. Please use tf.compat.v1.variables_initializer instead.\n",
            "\n",
            "100/100 [==============================] - 8s 77ms/step - loss: 0.3283 - acc: 0.8958 - val_loss: 0.3129 - val_acc: 0.8997\n",
            "Epoch 2/50\n",
            "100/100 [==============================] - 7s 67ms/step - loss: 0.3001 - acc: 0.9003 - val_loss: 0.3049 - val_acc: 0.9004\n",
            "Epoch 3/50\n",
            "100/100 [==============================] - 7s 68ms/step - loss: 0.2863 - acc: 0.9007 - val_loss: 0.2959 - val_acc: 0.9001\n",
            "Epoch 4/50\n",
            "100/100 [==============================] - 7s 68ms/step - loss: 0.2814 - acc: 0.9015 - val_loss: 0.3014 - val_acc: 0.8985\n",
            "Epoch 5/50\n",
            "100/100 [==============================] - 7s 65ms/step - loss: 0.2737 - acc: 0.9024 - val_loss: 0.2946 - val_acc: 0.9027\n",
            "Epoch 6/50\n",
            "100/100 [==============================] - 7s 65ms/step - loss: 0.2700 - acc: 0.9016 - val_loss: 0.2875 - val_acc: 0.9012\n",
            "Epoch 7/50\n",
            "100/100 [==============================] - 7s 66ms/step - loss: 0.2597 - acc: 0.9043 - val_loss: 0.2876 - val_acc: 0.8982\n",
            "Epoch 8/50\n",
            "100/100 [==============================] - 7s 66ms/step - loss: 0.2632 - acc: 0.9041 - val_loss: 0.2842 - val_acc: 0.8993\n",
            "Epoch 9/50\n",
            "100/100 [==============================] - 7s 66ms/step - loss: 0.2559 - acc: 0.9054 - val_loss: 0.2840 - val_acc: 0.9010\n",
            "Epoch 10/50\n",
            "100/100 [==============================] - 7s 66ms/step - loss: 0.2514 - acc: 0.9084 - val_loss: 0.2832 - val_acc: 0.8992\n",
            "Epoch 11/50\n",
            "100/100 [==============================] - 7s 66ms/step - loss: 0.2498 - acc: 0.9070 - val_loss: 0.2781 - val_acc: 0.9014\n",
            "Epoch 12/50\n",
            "100/100 [==============================] - 7s 66ms/step - loss: 0.2485 - acc: 0.9075 - val_loss: 0.2789 - val_acc: 0.9014\n",
            "Epoch 13/50\n",
            "100/100 [==============================] - 7s 66ms/step - loss: 0.2474 - acc: 0.9067 - val_loss: 0.2824 - val_acc: 0.9015\n",
            "Epoch 14/50\n",
            "100/100 [==============================] - 7s 65ms/step - loss: 0.2421 - acc: 0.9085 - val_loss: 0.2725 - val_acc: 0.9020\n",
            "Epoch 15/50\n",
            "100/100 [==============================] - 7s 65ms/step - loss: 0.2402 - acc: 0.9111 - val_loss: 0.2727 - val_acc: 0.9053\n",
            "Epoch 16/50\n",
            "100/100 [==============================] - 7s 65ms/step - loss: 0.2400 - acc: 0.9089 - val_loss: 0.2708 - val_acc: 0.9038\n",
            "Epoch 17/50\n",
            "100/100 [==============================] - 7s 66ms/step - loss: 0.2363 - acc: 0.9110 - val_loss: 0.2743 - val_acc: 0.9025\n",
            "Epoch 18/50\n",
            "100/100 [==============================] - 7s 66ms/step - loss: 0.2348 - acc: 0.9107 - val_loss: 0.2795 - val_acc: 0.8975\n",
            "Epoch 19/50\n",
            "100/100 [==============================] - 7s 66ms/step - loss: 0.2325 - acc: 0.9120 - val_loss: 0.2737 - val_acc: 0.9002\n",
            "Epoch 20/50\n",
            "100/100 [==============================] - 7s 66ms/step - loss: 0.2280 - acc: 0.9148 - val_loss: 0.2707 - val_acc: 0.9028\n",
            "Epoch 21/50\n",
            "100/100 [==============================] - 7s 66ms/step - loss: 0.2312 - acc: 0.9114 - val_loss: 0.2684 - val_acc: 0.9048\n",
            "Epoch 22/50\n",
            "100/100 [==============================] - 7s 66ms/step - loss: 0.2268 - acc: 0.9149 - val_loss: 0.2724 - val_acc: 0.9007\n",
            "Epoch 23/50\n",
            "100/100 [==============================] - 7s 66ms/step - loss: 0.2294 - acc: 0.9148 - val_loss: 0.2735 - val_acc: 0.9010\n",
            "Epoch 24/50\n",
            "100/100 [==============================] - 7s 65ms/step - loss: 0.2268 - acc: 0.9131 - val_loss: 0.2608 - val_acc: 0.9062\n",
            "Epoch 25/50\n",
            "100/100 [==============================] - 7s 67ms/step - loss: 0.2258 - acc: 0.9140 - val_loss: 0.2756 - val_acc: 0.9033\n",
            "Epoch 26/50\n",
            "100/100 [==============================] - 7s 67ms/step - loss: 0.2158 - acc: 0.9154 - val_loss: 0.2814 - val_acc: 0.9001\n",
            "Epoch 27/50\n",
            "100/100 [==============================] - 7s 65ms/step - loss: 0.2219 - acc: 0.9162 - val_loss: 0.2689 - val_acc: 0.9029\n",
            "Epoch 28/50\n",
            "100/100 [==============================] - 7s 65ms/step - loss: 0.2205 - acc: 0.9159 - val_loss: 0.2644 - val_acc: 0.9025\n",
            "Epoch 29/50\n",
            "100/100 [==============================] - 7s 67ms/step - loss: 0.2151 - acc: 0.9161 - val_loss: 0.2606 - val_acc: 0.9024\n",
            "Epoch 30/50\n",
            "100/100 [==============================] - 7s 68ms/step - loss: 0.2184 - acc: 0.9151 - val_loss: 0.2731 - val_acc: 0.9033\n",
            "Epoch 31/50\n",
            "100/100 [==============================] - 7s 67ms/step - loss: 0.2150 - acc: 0.9169 - val_loss: 0.2684 - val_acc: 0.9037\n",
            "Epoch 32/50\n",
            "100/100 [==============================] - 7s 66ms/step - loss: 0.2133 - acc: 0.9181 - val_loss: 0.2676 - val_acc: 0.9037\n",
            "Epoch 33/50\n",
            "100/100 [==============================] - 7s 66ms/step - loss: 0.2156 - acc: 0.9172 - val_loss: 0.2669 - val_acc: 0.9037\n",
            "Epoch 34/50\n",
            "100/100 [==============================] - 7s 67ms/step - loss: 0.2127 - acc: 0.9182 - val_loss: 0.2629 - val_acc: 0.9014\n",
            "Epoch 35/50\n",
            "100/100 [==============================] - 7s 67ms/step - loss: 0.2053 - acc: 0.9207 - val_loss: 0.2630 - val_acc: 0.9042\n",
            "Epoch 36/50\n",
            "100/100 [==============================] - 7s 66ms/step - loss: 0.2076 - acc: 0.9203 - val_loss: 0.2668 - val_acc: 0.9029\n",
            "Epoch 37/50\n",
            "100/100 [==============================] - 7s 66ms/step - loss: 0.2055 - acc: 0.9205 - val_loss: 0.2791 - val_acc: 0.9022\n",
            "Epoch 38/50\n",
            "100/100 [==============================] - 7s 67ms/step - loss: 0.2112 - acc: 0.9204 - val_loss: 0.2648 - val_acc: 0.9042\n",
            "Epoch 39/50\n",
            "100/100 [==============================] - 7s 67ms/step - loss: 0.2118 - acc: 0.9188 - val_loss: 0.2608 - val_acc: 0.9036\n",
            "Epoch 40/50\n",
            "100/100 [==============================] - 7s 66ms/step - loss: 0.2062 - acc: 0.9212 - val_loss: 0.2765 - val_acc: 0.9018\n",
            "Epoch 41/50\n",
            "100/100 [==============================] - 7s 67ms/step - loss: 0.2079 - acc: 0.9210 - val_loss: 0.2632 - val_acc: 0.9042\n",
            "Epoch 42/50\n",
            "100/100 [==============================] - 7s 66ms/step - loss: 0.2083 - acc: 0.9198 - val_loss: 0.2668 - val_acc: 0.9042\n",
            "Epoch 43/50\n",
            "100/100 [==============================] - 7s 65ms/step - loss: 0.2099 - acc: 0.9194 - val_loss: 0.2597 - val_acc: 0.9052\n",
            "Epoch 44/50\n",
            "100/100 [==============================] - 7s 65ms/step - loss: 0.2017 - acc: 0.9218 - val_loss: 0.2726 - val_acc: 0.9043\n",
            "Epoch 45/50\n",
            "100/100 [==============================] - 7s 66ms/step - loss: 0.2046 - acc: 0.9206 - val_loss: 0.2702 - val_acc: 0.9037\n",
            "Epoch 46/50\n",
            "100/100 [==============================] - 7s 66ms/step - loss: 0.2049 - acc: 0.9194 - val_loss: 0.2587 - val_acc: 0.9046\n",
            "Epoch 47/50\n",
            "100/100 [==============================] - 7s 66ms/step - loss: 0.2054 - acc: 0.9216 - val_loss: 0.2589 - val_acc: 0.9064\n",
            "Epoch 48/50\n",
            "100/100 [==============================] - 7s 66ms/step - loss: 0.2027 - acc: 0.9223 - val_loss: 0.2608 - val_acc: 0.9065\n",
            "Epoch 49/50\n",
            "100/100 [==============================] - 7s 66ms/step - loss: 0.2002 - acc: 0.9232 - val_loss: 0.2744 - val_acc: 0.9008\n",
            "Epoch 50/50\n",
            "100/100 [==============================] - 7s 69ms/step - loss: 0.1993 - acc: 0.9219 - val_loss: 0.2670 - val_acc: 0.9039\n"
          ],
          "name": "stdout"
        }
      ]
    },
    {
      "cell_type": "code",
      "metadata": {
        "id": "Gwz3_epVX3qy",
        "colab_type": "code",
        "outputId": "c5541ea3-867c-469b-e10d-fb4f4fc087c6",
        "colab": {
          "base_uri": "https://localhost:8080/",
          "height": 545
        }
      },
      "source": [
        "acc = history.history['acc']\n",
        "val_acc = history.history['val_acc']\n",
        "\n",
        "loss = history.history['loss']\n",
        "val_loss = history.history['val_loss']\n",
        "\n",
        "epochs = range(1, len(acc) + 1)\n",
        "\n",
        "# training and validation accuracy\n",
        "\n",
        "plt.plot(epochs, acc, 'bo', label='training acc')\n",
        "plt.plot(epochs, val_acc, 'b', label='validation acc')\n",
        "plt.title('training and validation accuracy')\n",
        "plt.legend()\n",
        "\n",
        "plt.figure()\n",
        "\n",
        "# training and validation loss\n",
        "\n",
        "plt.plot(epochs, loss, 'bo', label='training loss')\n",
        "plt.plot(epochs, val_loss, 'b', label='validation loss')\n",
        "plt.title('training and validation loss')\n",
        "plt.legend()\n",
        "\n",
        "plt.show()"
      ],
      "execution_count": 0,
      "outputs": [
        {
          "output_type": "display_data",
          "data": {
            "image/png": "[encoded data removed]",
            "text/plain": [
              "<Figure size 432x288 with 1 Axes>"
            ]
          },
          "metadata": {
            "tags": []
          }
        },
        {
          "output_type": "display_data",
          "data": {
            "image/png": "[encoded data removed]",
            "text/plain": [
              "<Figure size 432x288 with 1 Axes>"
            ]
          },
          "metadata": {
            "tags": []
          }
        }
      ]
    },
    {
      "cell_type": "markdown",
      "metadata": {
        "id": "YHqejTMsYG-I",
        "colab_type": "text"
      },
      "source": [
        "##Good Model"
      ]
    },
    {
      "cell_type": "code",
      "metadata": {
        "id": "uOzmhrqV0_s5",
        "colab_type": "code",
        "colab": {}
      },
      "source": [
        "(train_images, train_labels), (test_images, test_labels) = cifar10.load_data()\n",
        "train_labels = to_categorical(train_labels)\n",
        "test_labels = to_categorical(test_labels)"
      ],
      "execution_count": 0,
      "outputs": []
    },
    {
      "cell_type": "code",
      "metadata": {
        "id": "gzaHS46mYAYU",
        "colab_type": "code",
        "outputId": "20eaec36-5148-4f32-e153-2879dc6765e7",
        "colab": {
          "base_uri": "https://localhost:8080/",
          "height": 102
        }
      },
      "source": [
        "model3 = models.Sequential()\n",
        "# conv layers\n",
        "# 1\n",
        "model3.add(layers.Conv2D(64, (3, 3), activation='relu', input_shape=(32, 32, 3)))\n",
        "model3.add(layers.MaxPooling2D(3, 3))\n",
        "model3.add(layers.Conv2D(64, (3, 3), activation='relu', input_shape=(32, 32, 3)))\n",
        "model3.add(layers.MaxPooling2D(2, 2))\n",
        "# dense layers\n",
        "model3.add(layers.Flatten())\n",
        "model3.add(layers.Dropout(0.5))\n",
        "model3.add(layers.Dense(512, activation='relu'))\n",
        "model3.add(layers.Dense(10, activation='sigmoid'))"
      ],
      "execution_count": 0,
      "outputs": [
        {
          "output_type": "stream",
          "text": [
            "WARNING:tensorflow:From /usr/local/lib/python3.6/dist-packages/keras/backend/tensorflow_backend.py:148: The name tf.placeholder_with_default is deprecated. Please use tf.compat.v1.placeholder_with_default instead.\n",
            "\n",
            "WARNING:tensorflow:From /usr/local/lib/python3.6/dist-packages/keras/backend/tensorflow_backend.py:3733: calling dropout (from tensorflow.python.ops.nn_ops) with keep_prob is deprecated and will be removed in a future version.\n",
            "Instructions for updating:\n",
            "Please use `rate` instead of `keep_prob`. Rate should be set to `rate = 1 - keep_prob`.\n"
          ],
          "name": "stdout"
        }
      ]
    },
    {
      "cell_type": "code",
      "metadata": {
        "id": "d8je-TX1YAR0",
        "colab_type": "code",
        "outputId": "72f27283-ebfe-4518-c552-8efa32710242",
        "colab": {
          "base_uri": "https://localhost:8080/",
          "height": 357
        }
      },
      "source": [
        "model3.summary()"
      ],
      "execution_count": 0,
      "outputs": [
        {
          "output_type": "stream",
          "text": [
            "Model: \"sequential_2\"\n",
            "_________________________________________________________________\n",
            "Layer (type)                 Output Shape              Param #   \n",
            "=================================================================\n",
            "conv2d_2 (Conv2D)            (None, 30, 30, 64)        1792      \n",
            "_________________________________________________________________\n",
            "max_pooling2d_2 (MaxPooling2 (None, 15, 15, 64)        0         \n",
            "_________________________________________________________________\n",
            "flatten_2 (Flatten)          (None, 14400)             0         \n",
            "_________________________________________________________________\n",
            "dropout_1 (Dropout)          (None, 14400)             0         \n",
            "_________________________________________________________________\n",
            "dense_3 (Dense)              (None, 512)               7373312   \n",
            "_________________________________________________________________\n",
            "dense_4 (Dense)              (None, 10)                5130      \n",
            "=================================================================\n",
            "Total params: 7,380,234\n",
            "Trainable params: 7,380,234\n",
            "Non-trainable params: 0\n",
            "_________________________________________________________________\n"
          ],
          "name": "stdout"
        }
      ]
    },
    {
      "cell_type": "code",
      "metadata": {
        "id": "VWlJkyAgYAKu",
        "colab_type": "code",
        "colab": {}
      },
      "source": [
        "model3.compile(\n",
        "    loss='binary_crossentropy', \n",
        "    optimizer=optimizers.RMSprop(lr=1e-4), \n",
        "    metrics=['acc'])"
      ],
      "execution_count": 0,
      "outputs": []
    },
    {
      "cell_type": "code",
      "metadata": {
        "id": "xgOV-OEIX_-t",
        "colab_type": "code",
        "outputId": "6353852a-e97c-4295-84ad-3d5307a0e43f",
        "colab": {
          "base_uri": "https://localhost:8080/",
          "height": 1000
        }
      },
      "source": [
        "datagen = ImageDataGenerator(\n",
        "    rescale=1./255,\n",
        "    rotation_range=40,\n",
        "    width_shift_range=0.2,\n",
        "    height_shift_range=0.2,\n",
        "    shear_range=0.2,\n",
        "    zoom_range=0.2,\n",
        "    horizontal_flip=True,\n",
        "    fill_mode='nearest'\n",
        "    )\n",
        "\n",
        "history = model3.fit_generator(\n",
        "    datagen.flow(train_images, train_labels, batch_size=32),\n",
        "    steps_per_epoch=100,\n",
        "    epochs=50,\n",
        "    validation_data=datagen.flow(test_images, test_labels, batch_size=32),\n",
        "    validation_steps=50\n",
        ")"
      ],
      "execution_count": 0,
      "outputs": [
        {
          "output_type": "stream",
          "text": [
            "Epoch 1/50\n",
            "100/100 [==============================] - 17s 170ms/step - loss: 0.3268 - acc: 0.8958 - val_loss: 0.3069 - val_acc: 0.9000\n",
            "Epoch 2/50\n",
            "100/100 [==============================] - 16s 162ms/step - loss: 0.3001 - acc: 0.9000 - val_loss: 0.2932 - val_acc: 0.9002\n",
            "Epoch 3/50\n",
            "100/100 [==============================] - 16s 161ms/step - loss: 0.2959 - acc: 0.8993 - val_loss: 0.2955 - val_acc: 0.9008\n",
            "Epoch 4/50\n",
            "100/100 [==============================] - 16s 161ms/step - loss: 0.2889 - acc: 0.9000 - val_loss: 0.2809 - val_acc: 0.9002\n",
            "Epoch 5/50\n",
            "100/100 [==============================] - 16s 160ms/step - loss: 0.2843 - acc: 0.9012 - val_loss: 0.2834 - val_acc: 0.9013\n",
            "Epoch 6/50\n",
            "100/100 [==============================] - 16s 162ms/step - loss: 0.2831 - acc: 0.9006 - val_loss: 0.2770 - val_acc: 0.9002\n",
            "Epoch 7/50\n",
            "100/100 [==============================] - 16s 160ms/step - loss: 0.2791 - acc: 0.9009 - val_loss: 0.2771 - val_acc: 0.9016\n",
            "Epoch 8/50\n",
            "100/100 [==============================] - 16s 160ms/step - loss: 0.2790 - acc: 0.9013 - val_loss: 0.2759 - val_acc: 0.9016\n",
            "Epoch 9/50\n",
            "100/100 [==============================] - 16s 160ms/step - loss: 0.2759 - acc: 0.9021 - val_loss: 0.2707 - val_acc: 0.9019\n",
            "Epoch 10/50\n",
            "100/100 [==============================] - 16s 160ms/step - loss: 0.2742 - acc: 0.9005 - val_loss: 0.2654 - val_acc: 0.9021\n",
            "Epoch 11/50\n",
            "100/100 [==============================] - 16s 161ms/step - loss: 0.2695 - acc: 0.9019 - val_loss: 0.2661 - val_acc: 0.9027\n",
            "Epoch 12/50\n",
            "100/100 [==============================] - 16s 161ms/step - loss: 0.2730 - acc: 0.9010 - val_loss: 0.2694 - val_acc: 0.9017\n",
            "Epoch 13/50\n",
            "100/100 [==============================] - 16s 161ms/step - loss: 0.2698 - acc: 0.9021 - val_loss: 0.2708 - val_acc: 0.9017\n",
            "Epoch 14/50\n",
            "100/100 [==============================] - 16s 163ms/step - loss: 0.2677 - acc: 0.9017 - val_loss: 0.2581 - val_acc: 0.9041\n",
            "Epoch 15/50\n",
            "100/100 [==============================] - 17s 167ms/step - loss: 0.2656 - acc: 0.9021 - val_loss: 0.2643 - val_acc: 0.9036\n",
            "Epoch 16/50\n",
            "100/100 [==============================] - 17s 167ms/step - loss: 0.2646 - acc: 0.9024 - val_loss: 0.2617 - val_acc: 0.9039\n",
            "Epoch 17/50\n",
            "100/100 [==============================] - 17s 167ms/step - loss: 0.2641 - acc: 0.9029 - val_loss: 0.2677 - val_acc: 0.9041\n",
            "Epoch 18/50\n",
            "100/100 [==============================] - 17s 170ms/step - loss: 0.2627 - acc: 0.9030 - val_loss: 0.2600 - val_acc: 0.9042\n",
            "Epoch 19/50\n",
            "100/100 [==============================] - 17s 170ms/step - loss: 0.2653 - acc: 0.9030 - val_loss: 0.2607 - val_acc: 0.9023\n",
            "Epoch 20/50\n",
            "100/100 [==============================] - 17s 168ms/step - loss: 0.2608 - acc: 0.9038 - val_loss: 0.2627 - val_acc: 0.9036\n",
            "Epoch 21/50\n",
            "100/100 [==============================] - 17s 167ms/step - loss: 0.2560 - acc: 0.9049 - val_loss: 0.2549 - val_acc: 0.9035\n",
            "Epoch 22/50\n",
            "100/100 [==============================] - 17s 169ms/step - loss: 0.2593 - acc: 0.9032 - val_loss: 0.2603 - val_acc: 0.9043\n",
            "Epoch 23/50\n",
            "100/100 [==============================] - 17s 166ms/step - loss: 0.2626 - acc: 0.9035 - val_loss: 0.2558 - val_acc: 0.9045\n",
            "Epoch 24/50\n",
            "100/100 [==============================] - 17s 166ms/step - loss: 0.2586 - acc: 0.9043 - val_loss: 0.2515 - val_acc: 0.9047\n",
            "Epoch 25/50\n",
            "100/100 [==============================] - 17s 166ms/step - loss: 0.2591 - acc: 0.9028 - val_loss: 0.2527 - val_acc: 0.9056\n",
            "Epoch 26/50\n",
            "100/100 [==============================] - 17s 167ms/step - loss: 0.2565 - acc: 0.9043 - val_loss: 0.2533 - val_acc: 0.9046\n",
            "Epoch 27/50\n",
            "100/100 [==============================] - 16s 164ms/step - loss: 0.2580 - acc: 0.9040 - val_loss: 0.2504 - val_acc: 0.9055\n",
            "Epoch 28/50\n",
            "100/100 [==============================] - 17s 165ms/step - loss: 0.2560 - acc: 0.9049 - val_loss: 0.2523 - val_acc: 0.9056\n",
            "Epoch 29/50\n",
            "100/100 [==============================] - 17s 168ms/step - loss: 0.2551 - acc: 0.9057 - val_loss: 0.2534 - val_acc: 0.9057\n",
            "Epoch 30/50\n",
            "100/100 [==============================] - 16s 165ms/step - loss: 0.2547 - acc: 0.9058 - val_loss: 0.2558 - val_acc: 0.9051\n",
            "Epoch 31/50\n",
            "100/100 [==============================] - 17s 166ms/step - loss: 0.2568 - acc: 0.9040 - val_loss: 0.2515 - val_acc: 0.9048\n",
            "Epoch 32/50\n",
            "100/100 [==============================] - 17s 167ms/step - loss: 0.2541 - acc: 0.9050 - val_loss: 0.2500 - val_acc: 0.9063\n",
            "Epoch 33/50\n",
            "100/100 [==============================] - 16s 164ms/step - loss: 0.2535 - acc: 0.9060 - val_loss: 0.2538 - val_acc: 0.9057\n",
            "Epoch 34/50\n",
            "100/100 [==============================] - 16s 164ms/step - loss: 0.2525 - acc: 0.9054 - val_loss: 0.2495 - val_acc: 0.9053\n",
            "Epoch 35/50\n",
            "100/100 [==============================] - 16s 163ms/step - loss: 0.2512 - acc: 0.9063 - val_loss: 0.2449 - val_acc: 0.9080\n",
            "Epoch 36/50\n",
            "100/100 [==============================] - 16s 161ms/step - loss: 0.2511 - acc: 0.9052 - val_loss: 0.2519 - val_acc: 0.9070\n",
            "Epoch 37/50\n",
            "100/100 [==============================] - 16s 160ms/step - loss: 0.2489 - acc: 0.9058 - val_loss: 0.2500 - val_acc: 0.9060\n",
            "Epoch 38/50\n",
            "100/100 [==============================] - 16s 162ms/step - loss: 0.2519 - acc: 0.9058 - val_loss: 0.2445 - val_acc: 0.9074\n",
            "Epoch 39/50\n",
            "100/100 [==============================] - 16s 162ms/step - loss: 0.2520 - acc: 0.9051 - val_loss: 0.2470 - val_acc: 0.9047\n",
            "Epoch 40/50\n",
            "100/100 [==============================] - 16s 161ms/step - loss: 0.2510 - acc: 0.9050 - val_loss: 0.2422 - val_acc: 0.9067\n",
            "Epoch 41/50\n",
            "100/100 [==============================] - 16s 161ms/step - loss: 0.2488 - acc: 0.9066 - val_loss: 0.2446 - val_acc: 0.9067\n",
            "Epoch 42/50\n",
            "100/100 [==============================] - 16s 161ms/step - loss: 0.2472 - acc: 0.9070 - val_loss: 0.2456 - val_acc: 0.9069\n",
            "Epoch 43/50\n",
            "100/100 [==============================] - 16s 160ms/step - loss: 0.2485 - acc: 0.9062 - val_loss: 0.2512 - val_acc: 0.9057\n",
            "Epoch 44/50\n",
            "100/100 [==============================] - 16s 160ms/step - loss: 0.2451 - acc: 0.9067 - val_loss: 0.2478 - val_acc: 0.9066\n",
            "Epoch 45/50\n",
            "100/100 [==============================] - 16s 160ms/step - loss: 0.2464 - acc: 0.9072 - val_loss: 0.2460 - val_acc: 0.9062\n",
            "Epoch 46/50\n",
            "100/100 [==============================] - 16s 161ms/step - loss: 0.2508 - acc: 0.9051 - val_loss: 0.2446 - val_acc: 0.9068\n",
            "Epoch 47/50\n",
            "100/100 [==============================] - 16s 161ms/step - loss: 0.2483 - acc: 0.9058 - val_loss: 0.2443 - val_acc: 0.9073\n",
            "Epoch 48/50\n",
            "100/100 [==============================] - 16s 161ms/step - loss: 0.2453 - acc: 0.9068 - val_loss: 0.2429 - val_acc: 0.9072\n",
            "Epoch 49/50\n",
            "100/100 [==============================] - 16s 159ms/step - loss: 0.2458 - acc: 0.9080 - val_loss: 0.2429 - val_acc: 0.9074\n",
            "Epoch 50/50\n",
            "100/100 [==============================] - 16s 159ms/step - loss: 0.2471 - acc: 0.9049 - val_loss: 0.2426 - val_acc: 0.9073\n"
          ],
          "name": "stdout"
        }
      ]
    },
    {
      "cell_type": "code",
      "metadata": {
        "id": "yaZGcIcsX_m0",
        "colab_type": "code",
        "outputId": "8b719fc2-7d84-4ea8-bb54-c34e26ccbc2d",
        "colab": {
          "base_uri": "https://localhost:8080/",
          "height": 545
        }
      },
      "source": [
        "acc = history.history['acc']\n",
        "val_acc = history.history['val_acc']\n",
        "\n",
        "loss = history.history['loss']\n",
        "val_loss = history.history['val_loss']\n",
        "\n",
        "epochs = range(1, len(acc) + 1)\n",
        "\n",
        "# training and validation accuracy\n",
        "\n",
        "plt.plot(epochs, acc, 'bo', label='training acc')\n",
        "plt.plot(epochs, val_acc, 'b', label='validation acc')\n",
        "plt.title('training and validation accuracy')\n",
        "plt.legend()\n",
        "\n",
        "plt.figure()\n",
        "\n",
        "# training and validation loss\n",
        "\n",
        "plt.plot(epochs, loss, 'bo', label='training loss')\n",
        "plt.plot(epochs, val_loss, 'b', label='validation loss')\n",
        "plt.title('training and validation loss')\n",
        "plt.legend()\n",
        "\n",
        "plt.show()"
      ],
      "execution_count": 0,
      "outputs": [
        {
          "output_type": "display_data",
          "data": {
            "image/png": "[encoded data removed]",
            "text/plain": [
              "<Figure size 432x288 with 1 Axes>"
            ]
          },
          "metadata": {
            "tags": []
          }
        },
        {
          "output_type": "display_data",
          "data": {
            "image/png": "[encoded data removed]",
            "text/plain": [
              "<Figure size 432x288 with 1 Axes>"
            ]
          },
          "metadata": {
            "tags": []
          }
        }
      ]
    },
    {
      "cell_type": "code",
      "metadata": {
        "id": "Pd0RKqN21JdK",
        "colab_type": "code",
        "colab": {}
      },
      "source": [
        ""
      ],
      "execution_count": 0,
      "outputs": []
    }
  ]
}