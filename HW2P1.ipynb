{
  "nbformat": 4,
  "nbformat_minor": 0,
  "metadata": {
    "colab": {
      "name": "HW2P1.ipynb",
      "provenance": [],
      "collapsed_sections": []
    },
    "kernelspec": {
      "name": "python3",
      "display_name": "Python 3"
    }
  },
  "cells": [
    {
      "cell_type": "code",
      "metadata": {
        "id": "vdlXVSasDEF4",
        "colab_type": "code",
        "colab": {}
      },
      "source": [
        "%matplotlib inline\n",
        "%tensorflow_version 1.x\n",
        "\n",
        "import matplotlib.pyplot as plt\n",
        "import numpy as np\n",
        "from keras.datasets import mnist\n",
        "(train_images, train_labels), (test_images, test_labels) = mnist.load_data()"
      ],
      "execution_count": 0,
      "outputs": []
    },
    {
      "cell_type": "code",
      "metadata": {
        "id": "HL9ynXohIY9y",
        "colab_type": "code",
        "colab": {}
      },
      "source": [
        "train_images = np.reshape(train_images, (60000, 784))\n",
        "train_images = train_images.astype('float32')/255\n",
        "test_images = np.reshape(test_images, (10000, 784))\n",
        "test_images = test_images.astype('float32')/255\n",
        "ti = list(train_images)"
      ],
      "execution_count": 0,
      "outputs": []
    },
    {
      "cell_type": "code",
      "metadata": {
        "id": "cByeQRZe6u5W",
        "colab_type": "code",
        "colab": {}
      },
      "source": [
        "def merge(row, col, connect, num, low):\n",
        "  if row < 27 and row + 1 < low and connect[row+1][col] > num:\n",
        "    connect[row+1][col] = num\n",
        "    merge(row+1, col, connect, num, low)\n",
        "  if col < 27 and row < low and connect[row][col+1] > num:\n",
        "    connect[row][col+1] = num\n",
        "    merge(row, col+1, connect, num, low)\n",
        "  if row > 0 and connect[row-1][col] > num:\n",
        "    connect[row-1][col] = num\n",
        "    merge(row-1, col, connect, num, low)\n",
        "  if col > 0 and connect[row][col-1] > num:\n",
        "    connect[row][col-1] = num\n",
        "    merge(row, col-1, connect, num, low)"
      ],
      "execution_count": 0,
      "outputs": []
    },
    {
      "cell_type": "code",
      "metadata": {
        "id": "WsslujCONMi4",
        "colab_type": "code",
        "colab": {}
      },
      "source": [
        "# for i in range(100):\n",
        "#   fig=plt.figure(figsize=(10,3))\n",
        "#   ax=fig.add_subplot(1,1,1)\n",
        "#   a=np.copy(train_images[i])\n",
        "#   ax.imshow(a.reshape((28,28)), cmap='gray', interpolation='nearest', clim=(0,255))\n",
        "#   plt.show()"
      ],
      "execution_count": 0,
      "outputs": []
    },
    {
      "cell_type": "code",
      "metadata": {
        "id": "ytEnTOR6Ii8W",
        "colab_type": "code",
        "colab": {}
      },
      "source": [
        "def feat(ti, rang1, rang2, rang3):\n",
        "  features = np.zeros((rang1, 6))\n",
        "  for i in range(rang1):\n",
        "    left = rang3\n",
        "    right = 0\n",
        "    top = rang3\n",
        "    bottom = 0\n",
        "    num = 0\n",
        "    connect = np.zeros((rang3,rang3))\n",
        "    for j in range(rang2):\n",
        "      col = j % rang3\n",
        "      row = int(j/rang3)\n",
        "      if ti[i][j] > 0.2:\n",
        "        ti[i][j] = 0\n",
        "        if left > col:\n",
        "          left = col\n",
        "        if right < col:\n",
        "          right = col\n",
        "        if top > row:\n",
        "          top = row\n",
        "        bottom = row\n",
        "      else :\n",
        "        ti[i][j] = 1\n",
        "        if num < 1:\n",
        "          num = 1\n",
        "        if col < 1:\n",
        "          if row < 1:\n",
        "            connect[row][col] = num\n",
        "            continue\n",
        "          elif connect[row-1][col] > 0:\n",
        "            connect[row][col] = connect[row-1][col]\n",
        "          else:\n",
        "            num += 1\n",
        "            connect[row][col] = num\n",
        "        elif row < 1:\n",
        "          if connect[row][col-1] > 0:\n",
        "              connect[row][col] = connect[row][col-1]\n",
        "          else:\n",
        "            num += 1\n",
        "            connect[row][col] = num\n",
        "        else:\n",
        "          up = connect[row-1][col]\n",
        "          notright = connect[row][col-1]\n",
        "          if up == notright and up > 0:\n",
        "            connect[row][col] = up\n",
        "          elif up < notright and up > 0:\n",
        "            connect[row][col] = up\n",
        "            merge(row, col, connect, up, row)\n",
        "          elif notright > 0:\n",
        "            connect[row][col] = notright\n",
        "            merge(row, col, connect, notright, row)\n",
        "          elif up > 0:\n",
        "            connect[row][col] = up\n",
        "            merge(row, col, connect, up, row)\n",
        "          else:\n",
        "            num += 1\n",
        "            connect[row][col] = num\n",
        "    features[i][0] = (bottom - top)/(rang3-1)\n",
        "    features[i][1] = (right - left)/(rang3-1)\n",
        "    num = 0\n",
        "    for j in range(rang2):\n",
        "      if num < connect[int(j/rang3)][j%rang3]:\n",
        "        num = connect[int(j/rang3)][j%rang3]\n",
        "    if num == 1:\n",
        "      features[i][2] = 1\n",
        "    elif num == 2:\n",
        "      features[i][3] = 1\n",
        "    elif num == 3:\n",
        "      features[i][4] = 1\n",
        "    else:\n",
        "      features[i][5] = 1\n",
        "  return features"
      ],
      "execution_count": 0,
      "outputs": []
    },
    {
      "cell_type": "code",
      "metadata": {
        "id": "EHBneFvRYu1O",
        "colab_type": "code",
        "colab": {}
      },
      "source": [
        "from keras.utils import to_categorical\n",
        "\n",
        "train_labels = to_categorical(train_labels)\n",
        "test_labels = to_categorical(test_labels)\n",
        "\n",
        "augtrain_images = np.concatenate((train_images, feat(train_images, 60000, 784, 28)), axis = 1)\n",
        "augtest_images = np.concatenate((test_images, feat(test_images, 10000, 784, 28)), axis = 1)"
      ],
      "execution_count": 0,
      "outputs": []
    },
    {
      "cell_type": "code",
      "metadata": {
        "id": "rvymeI8KDBbq",
        "colab_type": "code",
        "colab": {}
      },
      "source": [
        "from keras import models\n",
        "from keras import layers\n",
        "\n",
        "network = models.Sequential()\n",
        "network.add(layers.Dense(10, activation = 'softmax', input_shape = (784,)))\n",
        "\n",
        "network.compile(optimizer='rmsprop',\n",
        "                loss = 'categorical_crossentropy',\n",
        "                metrics = ['acc'])"
      ],
      "execution_count": 0,
      "outputs": []
    },
    {
      "cell_type": "code",
      "metadata": {
        "id": "w0HxSxwv795P",
        "colab_type": "code",
        "outputId": "7412a0e5-b9fc-4371-ae79-525bf3983bab",
        "colab": {
          "base_uri": "https://localhost:8080/",
          "height": 734
        }
      },
      "source": [
        "epochs = 10\n",
        "history = network.fit(train_images,\n",
        "                      train_labels,\n",
        "                      epochs = epochs,\n",
        "                      batch_size=128,\n",
        "                      validation_data = (test_images, test_labels))"
      ],
      "execution_count": 0,
      "outputs": [
        {
          "output_type": "stream",
          "text": [
            "Train on 60000 samples, validate on 10000 samples\n",
            "Epoch 1/20\n",
            "60000/60000 [==============================] - 1s 24us/step - loss: 0.7436 - acc: 0.7883 - val_loss: 0.4169 - val_acc: 0.8831\n",
            "Epoch 2/20\n",
            "60000/60000 [==============================] - 1s 19us/step - loss: 0.4041 - acc: 0.8812 - val_loss: 0.3597 - val_acc: 0.8962\n",
            "Epoch 3/20\n",
            "60000/60000 [==============================] - 1s 19us/step - loss: 0.3659 - acc: 0.8907 - val_loss: 0.3257 - val_acc: 0.9051\n",
            "Epoch 4/20\n",
            "60000/60000 [==============================] - 1s 19us/step - loss: 0.3462 - acc: 0.8975 - val_loss: 0.3280 - val_acc: 0.8988\n",
            "Epoch 5/20\n",
            "60000/60000 [==============================] - 1s 19us/step - loss: 0.3356 - acc: 0.9006 - val_loss: 0.3167 - val_acc: 0.9051\n",
            "Epoch 6/20\n",
            "60000/60000 [==============================] - 1s 19us/step - loss: 0.3267 - acc: 0.9039 - val_loss: 0.3164 - val_acc: 0.9060\n",
            "Epoch 7/20\n",
            "60000/60000 [==============================] - 1s 19us/step - loss: 0.3215 - acc: 0.9047 - val_loss: 0.3240 - val_acc: 0.9041\n",
            "Epoch 8/20\n",
            "60000/60000 [==============================] - 1s 19us/step - loss: 0.3163 - acc: 0.9073 - val_loss: 0.3549 - val_acc: 0.8926\n",
            "Epoch 9/20\n",
            "60000/60000 [==============================] - 1s 20us/step - loss: 0.3126 - acc: 0.9077 - val_loss: 0.3007 - val_acc: 0.9130\n",
            "Epoch 10/20\n",
            "60000/60000 [==============================] - 1s 19us/step - loss: 0.3095 - acc: 0.9095 - val_loss: 0.3134 - val_acc: 0.9048\n",
            "Epoch 11/20\n",
            "60000/60000 [==============================] - 1s 19us/step - loss: 0.3067 - acc: 0.9097 - val_loss: 0.3017 - val_acc: 0.9121\n",
            "Epoch 12/20\n",
            "60000/60000 [==============================] - 1s 20us/step - loss: 0.3041 - acc: 0.9113 - val_loss: 0.2913 - val_acc: 0.9115\n",
            "Epoch 13/20\n",
            "60000/60000 [==============================] - 1s 19us/step - loss: 0.3022 - acc: 0.9120 - val_loss: 0.3258 - val_acc: 0.9022\n",
            "Epoch 14/20\n",
            "60000/60000 [==============================] - 1s 19us/step - loss: 0.2996 - acc: 0.9125 - val_loss: 0.3025 - val_acc: 0.9113\n",
            "Epoch 15/20\n",
            "60000/60000 [==============================] - 1s 19us/step - loss: 0.2983 - acc: 0.9125 - val_loss: 0.2947 - val_acc: 0.9139\n",
            "Epoch 16/20\n",
            "60000/60000 [==============================] - 1s 19us/step - loss: 0.2952 - acc: 0.9135 - val_loss: 0.2994 - val_acc: 0.9149\n",
            "Epoch 17/20\n",
            "60000/60000 [==============================] - 1s 19us/step - loss: 0.2948 - acc: 0.9143 - val_loss: 0.3114 - val_acc: 0.9064\n",
            "Epoch 18/20\n",
            "60000/60000 [==============================] - 1s 19us/step - loss: 0.2933 - acc: 0.9143 - val_loss: 0.3180 - val_acc: 0.9060\n",
            "Epoch 19/20\n",
            "60000/60000 [==============================] - 1s 19us/step - loss: 0.2925 - acc: 0.9147 - val_loss: 0.2948 - val_acc: 0.9157\n",
            "Epoch 20/20\n",
            "60000/60000 [==============================] - 1s 19us/step - loss: 0.2904 - acc: 0.9151 - val_loss: 0.2928 - val_acc: 0.9162\n"
          ],
          "name": "stdout"
        }
      ]
    },
    {
      "cell_type": "code",
      "metadata": {
        "id": "1XWEvQCn9gTT",
        "colab_type": "code",
        "colab": {}
      },
      "source": [
        "history_dict = history.history\n",
        "loss_values = history_dict['loss']\n",
        "test_loss_values = history_dict['val_loss']\n",
        "epochs_range = range(1, epochs + 1)"
      ],
      "execution_count": 0,
      "outputs": []
    },
    {
      "cell_type": "code",
      "metadata": {
        "id": "a6uTQn_d9lg3",
        "colab_type": "code",
        "outputId": "7d8f0ba8-31ea-4918-82a0-302243502338",
        "colab": {
          "base_uri": "https://localhost:8080/",
          "height": 295
        }
      },
      "source": [
        "plt.plot(epochs_range, loss_values, 'bo', label='Training loss')\n",
        "plt.plot(epochs_range, test_loss_values, 'ro', label='Test loss')\n",
        "plt.title('Training and test loss withoutwith features')\n",
        "plt.xlabel('Epochs')\n",
        "plt.ylabel('Loss')\n",
        "plt.legend()\n",
        "plt.show()"
      ],
      "execution_count": 0,
      "outputs": [
        {
          "output_type": "display_data",
          "data": {
            "image/png": "[encoded data removed]",
            "text/plain": [
              "<Figure size 432x288 with 1 Axes>"
            ]
          },
          "metadata": {
            "tags": []
          }
        }
      ]
    },
    {
      "cell_type": "code",
      "metadata": {
        "id": "tCkSt8Mj9oI4",
        "colab_type": "code",
        "colab": {}
      },
      "source": [
        "acc_values = history_dict['acc']\n",
        "test_acc_values = history_dict['val_acc']"
      ],
      "execution_count": 0,
      "outputs": []
    },
    {
      "cell_type": "code",
      "metadata": {
        "id": "S5qu7OvJ9rIe",
        "colab_type": "code",
        "outputId": "a960ef3c-00ea-4212-bcda-66f1ae36294e",
        "colab": {
          "base_uri": "https://localhost:8080/",
          "height": 295
        }
      },
      "source": [
        "plt.plot(epochs_range, acc_values, 'bo', label='Training accuracy')\n",
        "plt.plot(epochs_range, test_acc_values, 'ro', label='Test accuracy')\n",
        "plt.title('Training and test accuracy without features')\n",
        "plt.xlabel('Epochs')\n",
        "plt.ylabel('Accuracy')\n",
        "plt.legend()\n",
        "plt.show()"
      ],
      "execution_count": 0,
      "outputs": [
        {
          "output_type": "display_data",
          "data": {
            "image/png": "[encoded data removed]",
            "text/plain": [
              "<Figure size 432x288 with 1 Axes>"
            ]
          },
          "metadata": {
            "tags": []
          }
        }
      ]
    },
    {
      "cell_type": "code",
      "metadata": {
        "id": "pkzSQQsn9s4L",
        "colab_type": "code",
        "colab": {}
      },
      "source": [
        "network2 = models.Sequential()\n",
        "network2.add(layers.Dense(10, activation = 'softmax', input_shape = (784,)))\n",
        "\n",
        "network2.compile(optimizer='rmsprop',\n",
        "                loss = 'categorical_crossentropy',\n",
        "                metrics = ['accuracy'])"
      ],
      "execution_count": 0,
      "outputs": []
    },
    {
      "cell_type": "code",
      "metadata": {
        "id": "dq9cXREVA6YV",
        "colab_type": "code",
        "outputId": "6d31b70a-760c-4505-bc3a-14f710f1cbb7",
        "colab": {
          "base_uri": "https://localhost:8080/",
          "height": 734
        }
      },
      "source": [
        "epochs = 10\n",
        "history = network2.fit(train_images,\n",
        "                      train_labels,\n",
        "                      epochs = epochs,\n",
        "                      batch_size=128,\n",
        "                      validation_data = (test_images, test_labels))"
      ],
      "execution_count": 0,
      "outputs": [
        {
          "output_type": "stream",
          "text": [
            "Train on 60000 samples, validate on 10000 samples\n",
            "Epoch 1/20\n",
            "60000/60000 [==============================] - 1s 22us/step - loss: 0.7314 - acc: 0.7924 - val_loss: 0.4200 - val_acc: 0.8777\n",
            "Epoch 2/20\n",
            "60000/60000 [==============================] - 1s 18us/step - loss: 0.4027 - acc: 0.8803 - val_loss: 0.3918 - val_acc: 0.8785\n",
            "Epoch 3/20\n",
            "60000/60000 [==============================] - 1s 18us/step - loss: 0.3657 - acc: 0.8896 - val_loss: 0.3268 - val_acc: 0.9030\n",
            "Epoch 4/20\n",
            "60000/60000 [==============================] - 1s 18us/step - loss: 0.3461 - acc: 0.8962 - val_loss: 0.3295 - val_acc: 0.9023\n",
            "Epoch 5/20\n",
            "60000/60000 [==============================] - 1s 18us/step - loss: 0.3345 - acc: 0.9010 - val_loss: 0.3189 - val_acc: 0.9089\n",
            "Epoch 6/20\n",
            "60000/60000 [==============================] - 1s 20us/step - loss: 0.3265 - acc: 0.9034 - val_loss: 0.3210 - val_acc: 0.9048\n",
            "Epoch 7/20\n",
            "60000/60000 [==============================] - 1s 21us/step - loss: 0.3213 - acc: 0.9047 - val_loss: 0.3034 - val_acc: 0.9095\n",
            "Epoch 8/20\n",
            "60000/60000 [==============================] - 1s 21us/step - loss: 0.3169 - acc: 0.9070 - val_loss: 0.2955 - val_acc: 0.9116\n",
            "Epoch 9/20\n",
            "60000/60000 [==============================] - 1s 22us/step - loss: 0.3115 - acc: 0.9084 - val_loss: 0.3106 - val_acc: 0.9086\n",
            "Epoch 10/20\n",
            "60000/60000 [==============================] - 1s 20us/step - loss: 0.3096 - acc: 0.9092 - val_loss: 0.3317 - val_acc: 0.8999\n",
            "Epoch 11/20\n",
            "60000/60000 [==============================] - 1s 19us/step - loss: 0.3055 - acc: 0.9102 - val_loss: 0.2951 - val_acc: 0.9136\n",
            "Epoch 12/20\n",
            "60000/60000 [==============================] - 1s 19us/step - loss: 0.3036 - acc: 0.9105 - val_loss: 0.2991 - val_acc: 0.9109\n",
            "Epoch 13/20\n",
            "60000/60000 [==============================] - 1s 19us/step - loss: 0.3012 - acc: 0.9118 - val_loss: 0.3123 - val_acc: 0.9095\n",
            "Epoch 14/20\n",
            "60000/60000 [==============================] - 1s 19us/step - loss: 0.2986 - acc: 0.9119 - val_loss: 0.3124 - val_acc: 0.9048\n",
            "Epoch 15/20\n",
            "60000/60000 [==============================] - 1s 19us/step - loss: 0.2981 - acc: 0.9132 - val_loss: 0.3417 - val_acc: 0.8956\n",
            "Epoch 16/20\n",
            "60000/60000 [==============================] - 1s 18us/step - loss: 0.2963 - acc: 0.9130 - val_loss: 0.2911 - val_acc: 0.9167\n",
            "Epoch 17/20\n",
            "60000/60000 [==============================] - 1s 19us/step - loss: 0.2940 - acc: 0.9144 - val_loss: 0.2959 - val_acc: 0.9109\n",
            "Epoch 18/20\n",
            "60000/60000 [==============================] - 1s 19us/step - loss: 0.2927 - acc: 0.9140 - val_loss: 0.3013 - val_acc: 0.9126\n",
            "Epoch 19/20\n",
            "60000/60000 [==============================] - 1s 18us/step - loss: 0.2919 - acc: 0.9144 - val_loss: 0.3092 - val_acc: 0.9090\n",
            "Epoch 20/20\n",
            "60000/60000 [==============================] - 1s 19us/step - loss: 0.2910 - acc: 0.9153 - val_loss: 0.2973 - val_acc: 0.9118\n"
          ],
          "name": "stdout"
        }
      ]
    },
    {
      "cell_type": "code",
      "metadata": {
        "id": "sZxeOKLWA-M9",
        "colab_type": "code",
        "colab": {}
      },
      "source": [
        "history_dict = history.history\n",
        "loss_values = history_dict['loss']\n",
        "test_loss_values = history_dict['val_loss']\n",
        "epochs_range = range(1, epochs + 1)"
      ],
      "execution_count": 0,
      "outputs": []
    },
    {
      "cell_type": "code",
      "metadata": {
        "id": "ghmv5PhpBDrf",
        "colab_type": "code",
        "outputId": "3af8efd4-c9f7-4b99-be0d-aa78e496827d",
        "colab": {
          "base_uri": "https://localhost:8080/",
          "height": 295
        }
      },
      "source": [
        "plt.plot(epochs_range, loss_values, 'bo', label='Training loss')\n",
        "plt.plot(epochs_range, test_loss_values, 'ro', label='Test loss')\n",
        "plt.title('Training and test loss with features')\n",
        "plt.xlabel('Epochs')\n",
        "plt.ylabel('Loss')\n",
        "plt.legend()\n",
        "plt.show()"
      ],
      "execution_count": 0,
      "outputs": [
        {
          "output_type": "display_data",
          "data": {
            "image/png": "[encoded data removed]",
            "text/plain": [
              "<Figure size 432x288 with 1 Axes>"
            ]
          },
          "metadata": {
            "tags": []
          }
        }
      ]
    },
    {
      "cell_type": "code",
      "metadata": {
        "id": "-rYX7tWGBHG1",
        "colab_type": "code",
        "colab": {}
      },
      "source": [
        "acc_values = history_dict['acc']\n",
        "test_acc_values = history_dict['val_acc']"
      ],
      "execution_count": 0,
      "outputs": []
    },
    {
      "cell_type": "code",
      "metadata": {
        "id": "KVgZW6nbBKUZ",
        "colab_type": "code",
        "outputId": "b09aa0d6-18c3-4bf0-9505-083247382cc4",
        "colab": {
          "base_uri": "https://localhost:8080/",
          "height": 295
        }
      },
      "source": [
        "plt.plot(epochs_range, acc_values, 'bo', label='Training accuracy')\n",
        "plt.plot(epochs_range, test_acc_values, 'ro', label='Test accuracy')\n",
        "plt.title('Training and test accuracy with features')\n",
        "plt.xlabel('Epochs')\n",
        "plt.ylabel('Accuracy')\n",
        "plt.legend()\n",
        "plt.show()"
      ],
      "execution_count": 0,
      "outputs": [
        {
          "output_type": "display_data",
          "data": {
            "image/png": "[encoded data removed]",
            "text/plain": [
              "<Figure size 432x288 with 1 Axes>"
            ]
          },
          "metadata": {
            "tags": []
          }
        }
      ]
    },
    {
      "cell_type": "code",
      "metadata": {
        "id": "_EK3XOv-FCxX",
        "colab_type": "code",
        "colab": {}
      },
      "source": [
        ""
      ],
      "execution_count": 0,
      "outputs": []
    }
  ]
}